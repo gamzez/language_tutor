{
 "cells": [
  {
   "cell_type": "code",
   "execution_count": 1,
   "metadata": {},
   "outputs": [
    {
     "name": "stderr",
     "output_type": "stream",
     "text": [
      "/Users/gamze/Library/Python/3.9/lib/python/site-packages/urllib3/__init__.py:34: NotOpenSSLWarning: urllib3 v2.0 only supports OpenSSL 1.1.1+, currently the 'ssl' module is compiled with 'LibreSSL 2.8.3'. See: https://github.com/urllib3/urllib3/issues/3020\n",
      "  warnings.warn(\n",
      "Downloading LanguageTool 5.7: 100%|██████████| 225M/225M [00:21<00:00, 10.5MB/s] \n",
      "Unzipping /var/folders/kr/r_vxc56d1f9bq1xnp_7gwkf80000gn/T/tmpwdhxhu4t.zip to /Users/gamze/.cache/language_tool_python.\n",
      "Downloaded https://www.languagetool.org/download/LanguageTool-5.7.zip to /Users/gamze/.cache/language_tool_python.\n"
     ]
    }
   ],
   "source": [
    "import language_tool_python\n",
    "tool = language_tool_python.LanguageTool('en-US') "
   ]
  },
  {
   "cell_type": "code",
   "execution_count": 10,
   "metadata": {},
   "outputs": [
    {
     "data": {
      "text/plain": [
       "[Match({'ruleId': 'DE_AGREEMENT', 'message': 'Möglicherweise passen das Nomen und die Wörter, die das Nomen beschreiben, grammatisch nicht zusammen.', 'replacements': ['ein Sprachkurs', 'einen Sprachkurs', 'einem Sprachkurs'], 'offsetInContext': 16, 'context': 'Früher habe ich eine Sprachkurs teilgenommen, aber es ist immer noch sc...', 'offset': 16, 'errorLength': 15, 'category': 'GRAMMAR', 'ruleIssueType': 'uncategorized', 'sentence': 'Früher habe ich eine Sprachkurs teilgenommen, aber es ist immer noch schwierig, eine Freundschaft zu schließen.'})]"
      ]
     },
     "execution_count": 10,
     "metadata": {},
     "output_type": "execute_result"
    }
   ],
   "source": [
    "tool = tool = language_tool_python.LanguageToolPublicAPI('de-DE')\n",
    "text = 'Früher habe ich eine Sprachkurs teilgenommen, aber es ist immer noch schwierig, eine Freundschaft zu schließen. Hast du eine Empfehlung davon?'\n",
    "matches = tool.check(text)\n",
    "#tool.correct(text)\n",
    "matches"
   ]
  }
 ],
 "metadata": {
  "kernelspec": {
   "display_name": "Python 3",
   "language": "python",
   "name": "python3"
  },
  "language_info": {
   "codemirror_mode": {
    "name": "ipython",
    "version": 3
   },
   "file_extension": ".py",
   "mimetype": "text/x-python",
   "name": "python",
   "nbconvert_exporter": "python",
   "pygments_lexer": "ipython3",
   "version": "3.9.6"
  },
  "orig_nbformat": 4
 },
 "nbformat": 4,
 "nbformat_minor": 2
}
