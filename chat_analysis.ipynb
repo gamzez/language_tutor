{
 "cells": [
  {
   "cell_type": "code",
   "execution_count": null,
   "metadata": {},
   "outputs": [],
   "source": [
    "import pickle\n",
    "import openai\n",
    "import numpy as np\n",
    "import os"
   ]
  },
  {
   "cell_type": "code",
   "execution_count": null,
   "metadata": {},
   "outputs": [],
   "source": [
    "#read the txt file contains OpenAI API key\n",
    "with open('openai_api_key.txt.gitignore') as f:\n",
    "    api_key = f.readline()\n",
    "openai.api_key = api_key"
   ]
  },
  {
   "cell_type": "code",
   "execution_count": null,
   "metadata": {},
   "outputs": [],
   "source": [
    "with open(\"chat_logs/chat_log2.pkl\", \"rb\") as file:\n",
    "    chat_log = pickle.load(file)\n",
    "chat_log= chat_log[2:-1] # delete the system message and user's greeting\n",
    "len(chat_log)\n",
    "chat_log\n"
   ]
  },
  {
   "cell_type": "code",
   "execution_count": null,
   "metadata": {},
   "outputs": [],
   "source": [
    "\n",
    "with open('system_MessageSamples_for_GPT/promp_new.txt', 'r') as file:\n",
    "    system_definition = file.read()\n",
    "\n",
    "\n",
    "def get_feedback(system_definition,chat_log):\n",
    "    assert len(chat_log) % 2  == 0 , \"the length of chat is not appropriate  \"\n",
    "    messages = [{\"role\": \"system\", \"content\" : system_definition}]\n",
    "    for i in range((len(chat_log))//2):\n",
    "        content = chat_log[2*i][\"role\"] + ': ' + chat_log[2*i][\"content\"] +'\\n' + chat_log[2*i+1][\"role\"] +': '+ chat_log[2*i+1][\"content\"]\n",
    "        messages.append({\"role\": \"user\", \"content\" : content})\n",
    "      \n",
    "        completion = openai.ChatCompletion.create(\n",
    "                model=\"gpt-3.5-turbo\",\n",
    "                messages=messages\n",
    "        )  \n",
    "        chat_response = completion.choices[0].message.content  \n",
    "        print(content+'\\n')\n",
    "        print(f'GPT response:\\n{chat_response}'+ '\\n                    ---------------------------------------------------------------')  # Print the assistant's response\n",
    "        messages.append({\"role\": \"assistant\", \"content\": chat_response}) \n",
    "\n",
    "get_feedback(system_definition,chat_log)\n",
    "\n"
   ]
  },
  {
   "cell_type": "code",
   "execution_count": null,
   "metadata": {},
   "outputs": [],
   "source": [
    "def vocab_report(assistant_response):\n",
    "    # Define the system role to set the behavior of the chat assistant\n",
    "    content = ' give a list of vocabulary at advanced level in the given text, and use all these words in example sentences for better understanding.the structure should be 1.vocabeln: ...   1.example sentence: ...   2.vocabeln: ...   2.example sentence: ... and go on'\n",
    "    messages = [\n",
    "        {\"role\": \"system\", \"content\" : content},\n",
    "        {\"role\": \"user\", \"content\" : assistant_response }]\n",
    "      \n",
    "    completion = openai.ChatCompletion.create(\n",
    "            model=\"gpt-3.5-turbo\",\n",
    "            messages=messages\n",
    "    )  \n",
    "    chat_response = completion.choices[0].message.content  # Extract the response from the completion\n",
    "    print(f'VOCAB LIST:\\n{chat_response}')\n",
    "\n",
    "assistant_responses= \"\"\n",
    "for i in range(len(chat_log)//2):\n",
    "    assistant_responses += chat_log[2*i][\"content\"]\n",
    "    \n",
    "vocab_report(assistant_responses)"
   ]
  }
 ],
 "metadata": {
  "kernelspec": {
   "display_name": "Python 3",
   "language": "python",
   "name": "python3"
  },
  "language_info": {
   "codemirror_mode": {
    "name": "ipython",
    "version": 3
   },
   "file_extension": ".py",
   "mimetype": "text/x-python",
   "name": "python",
   "nbconvert_exporter": "python",
   "pygments_lexer": "ipython3",
   "version": "3.9.6"
  },
  "orig_nbformat": 4
 },
 "nbformat": 4,
 "nbformat_minor": 2
}
