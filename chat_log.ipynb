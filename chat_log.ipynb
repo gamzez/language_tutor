{
 "cells": [
  {
   "cell_type": "code",
   "execution_count": null,
   "metadata": {},
   "outputs": [],
   "source": [
    "import pickle\n",
    "import openai\n",
    "import numpy as np\n",
    "import os"
   ]
  },
  {
   "cell_type": "code",
   "execution_count": null,
   "metadata": {},
   "outputs": [],
   "source": [
    "#read the txt file contains OpenAI API key\n",
    "with open('openai_api_key.txt.gitignore') as f:\n",
    "    api_key = f.readline()\n",
    "openai.api_key = api_key"
   ]
  },
  {
   "cell_type": "code",
   "execution_count": 46,
   "metadata": {},
   "outputs": [
    {
     "data": {
      "text/plain": [
       "10"
      ]
     },
     "execution_count": 46,
     "metadata": {},
     "output_type": "execute_result"
    }
   ],
   "source": [
    "with open(\"chat_log.pkl\", \"rb\") as file:\n",
    "    chat_log = pickle.load(file)\n",
    "chat_log= chat_log[2:12] # delete the system message and user's greeting\n",
    "len(chat_log)"
   ]
  },
  {
   "cell_type": "code",
   "execution_count": 88,
   "metadata": {},
   "outputs": [
    {
     "name": "stdout",
     "output_type": "stream",
     "text": [
      "assistant: Hallo! Mein Tag war ganz gut, danke! Wie war deiner? Hast du etwas Besonderes gemacht?\n",
      "user: Ich habe keine besondere Macht.\n",
      "\n",
      "GPT response:\n",
      "User Input: Ich habe keine besondere Macht.\n",
      "Corrected Input: Ich habe nichts Besonderes gemacht.\n",
      "Error type: Incorrect word choice\n",
      "Example usage: Ich habe keine Zeit. (Correct: Ich habe keine Lust.)\n",
      "                    ---------------------------------------------------------------\n",
      "assistant: Oh, das tut mir leid, ich meinte eigentlich, ob du etwas Besonderes gemacht hast. Hast du heute etwas Interessantes erlebt?\n",
      "user: Es ist sehr schwierig in Deutschland eine interessante Aktivität zu finden.\n",
      "\n",
      "GPT response:\n",
      "User Input: Es ist sehr schwierig in Deutschland eine interessante Aktivität zu finden.\n",
      "Corrected Input: Es ist sehr schwierig, in Deutschland eine interessante Aktivität zu finden.\n",
      "Error type: Missing comma\n",
      "Example usage: Es ist sehr teuer in New York zu leben. (Correct: Es ist sehr teuer, in New York zu leben.)\n",
      "                    ---------------------------------------------------------------\n",
      "assistant: Verstehe ich. Deutschland bietet aber viele verschiedene Aktivitäten an, je nachdem was einen interessiert. Hast du schon mal überlegt, an einem Sprachkurs oder einer Sportgruppe teilzunehmen? Das könnte eine Möglichkeit sein, neue Menschen kennenzulernen und gleichzeitig etwas Interessantes zu erleben. Was hältst du davon?\n",
      "user: Früher habe ich eine Sprachkurs teilgenommen, aber es ist immer noch schwierig, eine Freundschaft zu schließen. Hast du eine Empfehlung davon?\n",
      "\n",
      "GPT response:\n",
      "User Input: Früher habe ich eine Sprachkurs teilgenommen, aber es ist immer noch schwierig, eine Freundschaft zu schließen. Hast du eine Empfehlung davon?\n",
      "Corrected Input: Früher habe ich an einem Sprachkurs teilgenommen, aber es ist immer noch schwierig, eine Freundschaft zu schließen. Hast du eine Empfehlung dafür?\n",
      "Error type: Wrong article / Wrong word choice\n",
      "Example usage: Ich habe ein Buch ausgeleihen. (Correct: Ich habe ein Buch ausgeliehen.)\n",
      "                    ---------------------------------------------------------------\n",
      "assistant: Es kann manchmal schwierig sein, neue Freundschaften zu knüpfen, aber es ist nicht unmöglich! Eine Sache, die du ausprobieren könntest, ist, dich in Freizeitaktivitäten oder Interessensgruppen zu engagieren, die deinen Hobbys oder Leidenschaften entsprechen. Das könnte zum Beispiel ein Sportverein, ein Leseclub oder ein freiwilliger Verein sein. Dadurch triffst du Menschen, die ähnliche Interessen haben wie du, und es fällt oft leichter, eine Verbindung aufzubauen. Vielleicht könntest du auch überlegen, einen Tandempartner zu finden, um deine Deutschkenntnisse zu verbessern und gleichzeitig neue Leute kennenzulernen. Es erfordert ein wenig Einsatz, aber es lohnt sich, um neue Freundschaften zu finden.\n",
      "user: Ja, noch hast du dich, ich könnte überlegen, dass eine Tandempartner zu finden, die die gleiche Interessenten mit mir haben.\n",
      "\n",
      "GPT response:\n",
      "User Input: Ja, noch hast du dich, ich könnte überlegen, dass eine Tandempartner zu finden, die die gleiche Interessenten mit mir haben.\n",
      "Corrected Input: Ja, guter Vorschlag, ich könnte darüber nachdenken, einen Tandempartner zu finden, der die gleichen Interessen wie ich hat.\n",
      "Error type: Incorrect word choice / Missing verb\n",
      "Example usage: Ich habe keine Interessen. (Correct: Ich habe keine Hobbys.)\n",
      "                    ---------------------------------------------------------------\n",
      "assistant: Das klingt nach einer großartigen Idee! Ein Tandempartner ist eine wunderbare Möglichkeit, deine Deutschkenntnisse zu verbessern und gleichzeitig neue Freundschaften zu schließen. Du könntest online nach Tandempartnern suchen, zum Beispiel in speziellen Facebook-Gruppen oder auf Tandem-Plattformen. Dort kannst du Menschen finden, die ähnliche Interessen haben wie du und sich darauf freuen, ihre Muttersprache mit dir zu teilen. Viel Glück bei der Suche nach einem passenden Tandempartner! Wenn du weitere Fragen hast oder Hilfe benötigst, stehe ich gerne zur Verfügung.\n",
      "user: Kannst du besondere Plattformen empfehlen, in dem ich eine Tandem finden kann?\n",
      "\n",
      "GPT response:\n",
      "User Input: Kannst du besondere Plattformen empfehlen, in dem ich eine Tandem finden kann?\n",
      "Corrected Input: Kannst du besondere Plattformen empfehlen, auf denen ich einen Tandempartner finden kann?\n",
      "Error type: Preposition error\n",
      "Example usage: Kannst du mir bei der Suche nach einer Wohnung helfen? (Correct: Kannst du mir bei der Suche nach einer Wohnung helfen?)\n",
      "                    ---------------------------------------------------------------\n"
     ]
    }
   ],
   "source": [
    "\n",
    "with open('promp_new.txt', 'r') as file:\n",
    "    system_definition = file.read()\n",
    "\n",
    "\n",
    "def get_feedback(system_definition,chat_log):\n",
    "    assert len(chat_log) % 2  == 0 , \"the length of chat is not appropriate  \"\n",
    "    messages = [{\"role\": \"system\", \"content\" : system_definition}]\n",
    "    for i in range((len(chat_log))//2):\n",
    "        content = chat_log[2*i][\"role\"] + ': ' + chat_log[2*i][\"content\"] +'\\n' + chat_log[2*i+1][\"role\"] +': '+ chat_log[2*i+1][\"content\"]\n",
    "        messages.append({\"role\": \"user\", \"content\" : content})\n",
    "      \n",
    "        completion = openai.ChatCompletion.create(\n",
    "                model=\"gpt-3.5-turbo\",\n",
    "                messages=messages\n",
    "        )  \n",
    "        chat_response = completion.choices[0].message.content  \n",
    "        print(content+'\\n')\n",
    "        print(f'GPT response:\\n{chat_response}'+ '\\n                    ---------------------------------------------------------------')  # Print the assistant's response\n",
    "        messages.append({\"role\": \"assistant\", \"content\": chat_response}) \n",
    "\n",
    "get_feedback(system_definition,chat_log)\n",
    "\n"
   ]
  },
  {
   "cell_type": "code",
   "execution_count": 96,
   "metadata": {},
   "outputs": [
    {
     "name": "stdout",
     "output_type": "stream",
     "text": [
      "VOCAB LIST:\n",
      "Vocabulary:\n",
      "1. Besonderes (special)\n",
      "2. Interessantes (interesting)\n",
      "3. Erlebt (experienced)\n",
      "4. Aktivitäten (activities)\n",
      "5. Sprachkurs (language course)\n",
      "6. Sportgruppe (sports group)\n",
      "7. Kennenzulernen (to get to know)\n",
      "8. Verbindung (connection)\n",
      "9. Engagieren (to engage)\n",
      "10. Hobbys (hobbies)\n",
      "11. Leidenschaften (passions)\n",
      "12. Sportverein (sports club)\n",
      "13. Leseclub (book club)\n",
      "14. Freiwilliger Verein (volunteer organization)\n",
      "15. Tandempartner (language exchange partner)\n",
      "16. Einsatz (effort)\n",
      "17. Lohnen (to be worth it)\n",
      "18. Facebook-Gruppen (Facebook groups)\n",
      "19. Tandem-Plattformen (tandem platforms)\n",
      "20. Passenden (suitable)\n",
      "\n",
      "Example sentences:\n",
      "1. Ich habe gestern einen besonderen Tag erlebt, als ich meine Familie nach vielen Monaten der Trennung wiedergesehen habe.\n",
      "2. Ich interessiere mich für verschiedene Aktivitäten wie Malen, Tanzen und Wandern.\n",
      "3. Es könnte interessant sein, an einem Sprachkurs teilzunehmen, um meine Deutschkenntnisse zu verbessern.\n",
      "4. Ich habe mich einer Sportgruppe angeschlossen, um fit zu bleiben und gleichzeitig neue Leute kennenzulernen.\n",
      "5. Durch mein Engagement im Leseclub habe ich viele neue Freunde gefunden, die meine Leidenschaft für Bücher teilen.\n",
      "6. Ich überlege mir, einem freiwilligen Verein beizutreten, um anderen Menschen zu helfen und gleichzeitig neue Erfahrungen zu sammeln.\n",
      "7. Mein Sportverein bietet eine Vielzahl von Aktivitäten an, darunter Fußball, Tennis und Schwimmen.\n",
      "8. Der Leseclub ist ein großartiger Ort, um Gleichgesinnte zu treffen und gemeinsam über Bücher zu diskutieren.\n",
      "9. Durch freiwilliges Engagement konnte ich viele neue Verbindungen knüpfen und wertvolle Lebenserfahrungen sammeln.\n",
      "10. Meine Hobbys umfassen Fotografie, Kochen und Reisen.\n",
      "11. Ich verfolge meine Leidenschaft für Musik, indem ich in einer Band spiele und regelmäßig Konzerte besuche.\n",
      "12. Mein Freund hat sich einem neuen Sportverein angeschlossen, um sich fit zu halten und neue Leute kennenzulernen.\n",
      "13. Im Leseclub treffen wir uns einmal pro Woche, um gemeinsam Bücher zu lesen und darüber zu diskutieren.\n",
      "14. Ich engagiere mich in einem freiwilligen Verein, der Menschen in Not unterstützt und ihnen hilft, ein besseres Leben zu führen.\n",
      "15. Ein Tandempartner kann eine großartige Möglichkeit sein, eine neue Sprache zu lernen und gleichzeitig neue Freundschaften zu schließen.\n",
      "16. Es erfordert Einsatz und Zeit, um neue Freundschaften zu knüpfen, aber es lohnt sich in vielerlei Hinsicht.\n",
      "17. In Facebook-Gruppen kann man Menschen mit ähnlichen Interessen finden und sich mit ihnen austauschen.\n",
      "18. Es gibt viele Tandem-Plattformen, auf denen man nach passenden Tandempartnern suchen kann, um Sprachen zu lernen.\n",
      "19. Ich hoffe, dass du einen passenden Tandempartner findest, der deine Leidenschaft für Sprachen teilt.\n",
      "20. Wenn du Hilfe bei der Suche nach einem Tandempartner brauchst, stehe ich gerne zur Verfügung.\n"
     ]
    }
   ],
   "source": [
    "def vocab_report(assistant_response):\n",
    "    # Define the system role to set the behavior of the chat assistant\n",
    "    content = ' give a list of vocabulary at advanced level in the given text, and use all these words in example sentences for better understanding.the structure should be 1.vocabeln: ...   1.example sentence: ...   2.vocabeln: ...   2.example sentence: ... and go on'\n",
    "    messages = [\n",
    "        {\"role\": \"system\", \"content\" : content},\n",
    "        {\"role\": \"user\", \"content\" : assistant_response }]\n",
    "      \n",
    "    completion = openai.ChatCompletion.create(\n",
    "            model=\"gpt-3.5-turbo\",\n",
    "            messages=messages\n",
    "    )  \n",
    "    chat_response = completion.choices[0].message.content  # Extract the response from the completion\n",
    "    print(f'VOCAB LIST:\\n{chat_response}')\n",
    "\n",
    "assistant_responses= \"\"\n",
    "for i in range(len(chat_log)//2):\n",
    "    assistant_responses += chat_log[2*i][\"content\"]\n",
    "    \n",
    "vocab_report(assistant_responses)"
   ]
  }
 ],
 "metadata": {
  "kernelspec": {
   "display_name": "Python 3",
   "language": "python",
   "name": "python3"
  },
  "language_info": {
   "codemirror_mode": {
    "name": "ipython",
    "version": 3
   },
   "file_extension": ".py",
   "mimetype": "text/x-python",
   "name": "python",
   "nbconvert_exporter": "python",
   "pygments_lexer": "ipython3",
   "version": "3.9.6"
  },
  "orig_nbformat": 4
 },
 "nbformat": 4,
 "nbformat_minor": 2
}
