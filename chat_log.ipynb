{
 "cells": [
  {
   "cell_type": "code",
   "execution_count": 1,
   "metadata": {},
   "outputs": [
    {
     "name": "stderr",
     "output_type": "stream",
     "text": [
      "/Users/gamze/Library/Python/3.9/lib/python/site-packages/urllib3/__init__.py:34: NotOpenSSLWarning: urllib3 v2.0 only supports OpenSSL 1.1.1+, currently the 'ssl' module is compiled with 'LibreSSL 2.8.3'. See: https://github.com/urllib3/urllib3/issues/3020\n",
      "  warnings.warn(\n"
     ]
    }
   ],
   "source": [
    "import pickle\n",
    "import openai\n",
    "import numpy as np\n",
    "import os"
   ]
  },
  {
   "cell_type": "code",
   "execution_count": 2,
   "metadata": {},
   "outputs": [],
   "source": [
    "#read the txt file contains OpenAI API key\n",
    "with open('openai_api_key.txt.gitignore') as f:\n",
    "    api_key = f.readline()\n",
    "openai.api_key = api_key"
   ]
  },
  {
   "cell_type": "code",
   "execution_count": 3,
   "metadata": {},
   "outputs": [
    {
     "data": {
      "text/plain": [
       "10"
      ]
     },
     "execution_count": 3,
     "metadata": {},
     "output_type": "execute_result"
    }
   ],
   "source": [
    "with open(\"chat_log2.pkl\", \"rb\") as file:\n",
    "    chat_log = pickle.load(file)\n",
    "chat_log= chat_log[2:] # delete the system message and user's greeting\n",
    "len(chat_log)"
   ]
  },
  {
   "cell_type": "code",
   "execution_count": 4,
   "metadata": {},
   "outputs": [
    {
     "name": "stdout",
     "output_type": "stream",
     "text": [
      "assistant: Hallo! Wie geht es dir?\n",
      "user: Danke, es geht mir gut und ja. Bist du meine Language Tutor oder nie?\n",
      "\n",
      "GPT response:\n",
      "Corrected input: Danke, es geht mir gut. Bist du meine Sprachlehrerin oder nicht?\n",
      "Error type: Grammatical errors, capitalization errors\n",
      "Example usage: \n",
      "- Wie geht es dir? (No mistake)\n",
      "- Danke, es geht mir gut. (No mistake)\n",
      "- Bist du meine Sprachlehrerin oder nicht? (No mistake)\n",
      "                    ---------------------------------------------------------------\n",
      "assistant: Ja genau, ich bin deine Sprachpartnerin und werde dir gerne beim Deutschlernen helfen! Wie kann ich dir heute weiterhelfen?\n",
      "user: Wir könnten über ein bestimmtes Thema reden, aber ich habe keine Idee. Hast du eine Empfehlung dafür?\n",
      "\n",
      "GPT response:\n",
      "Corrected input: Wir könnten über ein bestimmtes Thema reden, aber ich habe keine Idee. Hast du eine Empfehlung dafür?\n",
      "Error type: Capitalization errors\n",
      "Example usage:\n",
      "- Ja genau, ich bin deine Sprachpartnerin und werde dir gerne beim Deutschlernen helfen! (No mistake)\n",
      "- Wie kann ich dir heute weiterhelfen? (No mistake)\n",
      "- Wir könnten über ein bestimmtes Thema reden, aber ich habe keine Idee. Hast du eine Empfehlung dafür? (No mistake)\n",
      "                    ---------------------------------------------------------------\n",
      "assistant: Natürlich! Wie wäre es, wenn wir über das Leben in Deutschland sprechen? Zum Beispiel könnten wir über das deutsche Bildungssystem, das Gesundheitssystem oder auch das Arbeitsleben reden. Was interessiert dich am meisten?\n",
      "user: Tut mir leid, aber ich habe keine Spezialinformationen über das Bildungssystem in Deutschland, weil ich in der Türkei aufgewachsen und ich habe meine Bildung in der Türkei gemacht.\n",
      "\n",
      "GPT response:\n",
      "Corrected input: Tut mir leid, aber ich habe keine spezifischen Informationen über das Bildungssystem in Deutschland, da ich in der Türkei aufgewachsen bin und meine Bildung dort erhalten habe.\n",
      "Error type: Grammar, spelling\n",
      "Example usage:\n",
      "- Natürlich! Wie wäre es, wenn wir über das Leben in Deutschland sprechen? (No mistake)\n",
      "- Zum Beispiel könnten wir über das deutsche Bildungssystem, das Gesundheitssystem oder auch das Arbeitsleben reden. Was interessiert dich am meisten? (No mistake)\n",
      "- Tut mir leid, aber ich habe keine spezifischen Informationen über das Bildungssystem in Deutschland, da ich in der Türkei aufgewachsen bin und meine Bildung dort erhalten habe. (No mistake)\n",
      "                    ---------------------------------------------------------------\n",
      "assistant: Kein Problem! Dann lass uns doch über das Arbeitsleben in Deutschland sprechen. Bist du daran interessiert, wie Jobs und Arbeitsbedingungen hier sind?\n",
      "user: Das wäre ein interessantes Thema für mich, weil ich auf der Suche nach einem Job bin.\n",
      "\n",
      "GPT response:\n",
      "Corrected input: Das wäre ein interessantes Thema für mich, da ich auf der Suche nach einem Job bin.\n",
      "Error type: Grammar\n",
      "Example usage:\n",
      "- Kein Problem! Dann lass uns doch über das Arbeitsleben in Deutschland sprechen. (No mistake)\n",
      "- Bist du daran interessiert, wie Jobs und Arbeitsbedingungen hier sind? (No mistake)\n",
      "- Das wäre ein interessantes Thema für mich, da ich auf der Suche nach einem Job bin. (No mistake)\n",
      "                    ---------------------------------------------------------------\n",
      "assistant: Das ist gut zu hören! Das deutsche Arbeitsleben ist in der Regel von Stabilität und rechtlichen Schutzbestimmungen geprägt. Es gibt viele Beschäftigungsmöglichkeiten in verschiedenen Branchen, abhängig von deinen Qualifikationen und Interessen. In Deutschland ist es üblich, dass Arbeitnehmer einen unbefristeten Vertrag haben und eine gewisse Arbeitsplatzsicherheit genießen. Es gibt auch Arbeitszeitregelungen, wie die 40-Stunden-Woche, und es wird oft Wert auf die Work-Life-Balance gelegt. Möchtest du mehr über bestimmte Aspekte des deutschen Arbeitslebens erfahren?\n",
      "user: Ich schmiede jetzt so, Deutschland ist berühmt für den Schutz der Arbeit, Arbeiten. Zum Beispiel ist es verboten an Feiertagen zu arbeiten.\n",
      "\n",
      "GPT response:\n",
      "Corrected input: Ich höre jetzt zum ersten Mal, dass Deutschland für den Schutz der Arbeit bekannt ist. Zum Beispiel ist es in Deutschland an Feiertagen verboten zu arbeiten.\n",
      "Error type: Grammar, capitalization\n",
      "Example usage:\n",
      "- Das ist gut zu hören! (No mistake)\n",
      "- Das deutsche Arbeitsleben ist in der Regel von Stabilität und rechtlichen Schutzbestimmungen geprägt. (No mistake)\n",
      "- Es gibt viele Beschäftigungsmöglichkeiten in verschiedenen Branchen, abhängig von deinen Qualifikationen und Interessen. (No mistake)\n",
      "- In Deutschland ist es üblich, dass Arbeitnehmer einen unbefristeten Vertrag haben und eine gewisse Arbeitsplatzsicherheit genießen. (No mistake)\n",
      "- Es gibt auch Arbeitszeitregelungen, wie die 40-Stunden-Woche, und es wird oft Wert auf die Work-Life-Balance gelegt. (No mistake)\n",
      "- Möchtest du mehr über bestimmte Aspekte des deutschen Arbeitslebens erfahren? (No mistake)\n",
      "- Ich höre jetzt zum ersten Mal, dass Deutschland für den Schutz der Arbeit bekannt ist. (No mistake)\n",
      "- Zum Beispiel ist es in Deutschland an Feiertagen verboten zu arbeiten. (No mistake)\n",
      "                    ---------------------------------------------------------------\n"
     ]
    }
   ],
   "source": [
    "\n",
    "with open('promp_new.txt', 'r') as file:\n",
    "    system_definition = file.read()\n",
    "\n",
    "\n",
    "def get_feedback(system_definition,chat_log):\n",
    "    assert len(chat_log) % 2  == 0 , \"the length of chat is not appropriate  \"\n",
    "    messages = [{\"role\": \"system\", \"content\" : system_definition}]\n",
    "    for i in range((len(chat_log))//2):\n",
    "        content = chat_log[2*i][\"role\"] + ': ' + chat_log[2*i][\"content\"] +'\\n' + chat_log[2*i+1][\"role\"] +': '+ chat_log[2*i+1][\"content\"]\n",
    "        messages.append({\"role\": \"user\", \"content\" : content})\n",
    "      \n",
    "        completion = openai.ChatCompletion.create(\n",
    "                model=\"gpt-3.5-turbo\",\n",
    "                messages=messages\n",
    "        )  \n",
    "        chat_response = completion.choices[0].message.content  \n",
    "        print(content+'\\n')\n",
    "        print(f'GPT response:\\n{chat_response}'+ '\\n                    ---------------------------------------------------------------')  # Print the assistant's response\n",
    "        messages.append({\"role\": \"assistant\", \"content\": chat_response}) \n",
    "\n",
    "get_feedback(system_definition,chat_log)\n",
    "\n"
   ]
  },
  {
   "cell_type": "code",
   "execution_count": 96,
   "metadata": {},
   "outputs": [
    {
     "name": "stdout",
     "output_type": "stream",
     "text": [
      "VOCAB LIST:\n",
      "Vocabulary:\n",
      "1. Besonderes (special)\n",
      "2. Interessantes (interesting)\n",
      "3. Erlebt (experienced)\n",
      "4. Aktivitäten (activities)\n",
      "5. Sprachkurs (language course)\n",
      "6. Sportgruppe (sports group)\n",
      "7. Kennenzulernen (to get to know)\n",
      "8. Verbindung (connection)\n",
      "9. Engagieren (to engage)\n",
      "10. Hobbys (hobbies)\n",
      "11. Leidenschaften (passions)\n",
      "12. Sportverein (sports club)\n",
      "13. Leseclub (book club)\n",
      "14. Freiwilliger Verein (volunteer organization)\n",
      "15. Tandempartner (language exchange partner)\n",
      "16. Einsatz (effort)\n",
      "17. Lohnen (to be worth it)\n",
      "18. Facebook-Gruppen (Facebook groups)\n",
      "19. Tandem-Plattformen (tandem platforms)\n",
      "20. Passenden (suitable)\n",
      "\n",
      "Example sentences:\n",
      "1. Ich habe gestern einen besonderen Tag erlebt, als ich meine Familie nach vielen Monaten der Trennung wiedergesehen habe.\n",
      "2. Ich interessiere mich für verschiedene Aktivitäten wie Malen, Tanzen und Wandern.\n",
      "3. Es könnte interessant sein, an einem Sprachkurs teilzunehmen, um meine Deutschkenntnisse zu verbessern.\n",
      "4. Ich habe mich einer Sportgruppe angeschlossen, um fit zu bleiben und gleichzeitig neue Leute kennenzulernen.\n",
      "5. Durch mein Engagement im Leseclub habe ich viele neue Freunde gefunden, die meine Leidenschaft für Bücher teilen.\n",
      "6. Ich überlege mir, einem freiwilligen Verein beizutreten, um anderen Menschen zu helfen und gleichzeitig neue Erfahrungen zu sammeln.\n",
      "7. Mein Sportverein bietet eine Vielzahl von Aktivitäten an, darunter Fußball, Tennis und Schwimmen.\n",
      "8. Der Leseclub ist ein großartiger Ort, um Gleichgesinnte zu treffen und gemeinsam über Bücher zu diskutieren.\n",
      "9. Durch freiwilliges Engagement konnte ich viele neue Verbindungen knüpfen und wertvolle Lebenserfahrungen sammeln.\n",
      "10. Meine Hobbys umfassen Fotografie, Kochen und Reisen.\n",
      "11. Ich verfolge meine Leidenschaft für Musik, indem ich in einer Band spiele und regelmäßig Konzerte besuche.\n",
      "12. Mein Freund hat sich einem neuen Sportverein angeschlossen, um sich fit zu halten und neue Leute kennenzulernen.\n",
      "13. Im Leseclub treffen wir uns einmal pro Woche, um gemeinsam Bücher zu lesen und darüber zu diskutieren.\n",
      "14. Ich engagiere mich in einem freiwilligen Verein, der Menschen in Not unterstützt und ihnen hilft, ein besseres Leben zu führen.\n",
      "15. Ein Tandempartner kann eine großartige Möglichkeit sein, eine neue Sprache zu lernen und gleichzeitig neue Freundschaften zu schließen.\n",
      "16. Es erfordert Einsatz und Zeit, um neue Freundschaften zu knüpfen, aber es lohnt sich in vielerlei Hinsicht.\n",
      "17. In Facebook-Gruppen kann man Menschen mit ähnlichen Interessen finden und sich mit ihnen austauschen.\n",
      "18. Es gibt viele Tandem-Plattformen, auf denen man nach passenden Tandempartnern suchen kann, um Sprachen zu lernen.\n",
      "19. Ich hoffe, dass du einen passenden Tandempartner findest, der deine Leidenschaft für Sprachen teilt.\n",
      "20. Wenn du Hilfe bei der Suche nach einem Tandempartner brauchst, stehe ich gerne zur Verfügung.\n"
     ]
    }
   ],
   "source": [
    "def vocab_report(assistant_response):\n",
    "    # Define the system role to set the behavior of the chat assistant\n",
    "    content = ' give a list of vocabulary at advanced level in the given text, and use all these words in example sentences for better understanding.the structure should be 1.vocabeln: ...   1.example sentence: ...   2.vocabeln: ...   2.example sentence: ... and go on'\n",
    "    messages = [\n",
    "        {\"role\": \"system\", \"content\" : content},\n",
    "        {\"role\": \"user\", \"content\" : assistant_response }]\n",
    "      \n",
    "    completion = openai.ChatCompletion.create(\n",
    "            model=\"gpt-3.5-turbo\",\n",
    "            messages=messages\n",
    "    )  \n",
    "    chat_response = completion.choices[0].message.content  # Extract the response from the completion\n",
    "    print(f'VOCAB LIST:\\n{chat_response}')\n",
    "\n",
    "assistant_responses= \"\"\n",
    "for i in range(len(chat_log)//2):\n",
    "    assistant_responses += chat_log[2*i][\"content\"]\n",
    "    \n",
    "vocab_report(assistant_responses)"
   ]
  }
 ],
 "metadata": {
  "kernelspec": {
   "display_name": "Python 3",
   "language": "python",
   "name": "python3"
  },
  "language_info": {
   "codemirror_mode": {
    "name": "ipython",
    "version": 3
   },
   "file_extension": ".py",
   "mimetype": "text/x-python",
   "name": "python",
   "nbconvert_exporter": "python",
   "pygments_lexer": "ipython3",
   "version": "3.9.6"
  },
  "orig_nbformat": 4
 },
 "nbformat": 4,
 "nbformat_minor": 2
}
