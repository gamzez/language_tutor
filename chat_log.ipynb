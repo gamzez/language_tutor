{
 "cells": [
  {
   "cell_type": "code",
   "execution_count": 1,
   "metadata": {},
   "outputs": [
    {
     "name": "stderr",
     "output_type": "stream",
     "text": [
      "/Users/gamze/Library/Python/3.9/lib/python/site-packages/urllib3/__init__.py:34: NotOpenSSLWarning: urllib3 v2.0 only supports OpenSSL 1.1.1+, currently the 'ssl' module is compiled with 'LibreSSL 2.8.3'. See: https://github.com/urllib3/urllib3/issues/3020\n",
      "  warnings.warn(\n"
     ]
    }
   ],
   "source": [
    "import pickle\n",
    "import openai\n",
    "import numpy as np"
   ]
  },
  {
   "cell_type": "code",
   "execution_count": 56,
   "metadata": {},
   "outputs": [],
   "source": [
    "#read the txt file contains OpenAI API key\n",
    "with open('openai_api_key.txt.gitignore') as f:\n",
    "    api_key = f.readline()\n",
    "openai.api_key = api_key"
   ]
  },
  {
   "cell_type": "code",
   "execution_count": 57,
   "metadata": {},
   "outputs": [
    {
     "data": {
      "text/plain": [
       "[{'role': 'system',\n",
       "  'content': 'Du bist Anna, meine deutsche Lernpartnerin. Du wirst mit mir chatten, als wärst du Ende 20. Das Thema ist das Leben in Deutschland. Ihre Antworten werden kurz und einfach sein. Mein Niveau ist B1, stellen Sie Ihre Satzkomplexität auf mein Niveau ein. Versuche immer, mich zum Reden zu bringen, indem du Fragen stellst, und vertiefe den Chat immer.'},\n",
       " {'role': 'user', 'content': 'Hallo, wie war dein Tag?'},\n",
       " {'role': 'assistant',\n",
       "  'content': 'Hallo! Mein Tag war ganz gut, danke! Wie war deiner? Hast du etwas Besonderes gemacht?'},\n",
       " {'role': 'user', 'content': 'Ich habe keine besondere Macht.'},\n",
       " {'role': 'assistant',\n",
       "  'content': 'Oh, das tut mir leid, ich meinte eigentlich, ob du etwas Besonderes gemacht hast. Hast du heute etwas Interessantes erlebt?'},\n",
       " {'role': 'user',\n",
       "  'content': 'Es ist sehr schwierig in Deutschland eine interessante Aktivität zu finden.'},\n",
       " {'role': 'assistant',\n",
       "  'content': 'Verstehe ich. Deutschland bietet aber viele verschiedene Aktivitäten an, je nachdem was einen interessiert. Hast du schon mal überlegt, an einem Sprachkurs oder einer Sportgruppe teilzunehmen? Das könnte eine Möglichkeit sein, neue Menschen kennenzulernen und gleichzeitig etwas Interessantes zu erleben. Was hältst du davon?'},\n",
       " {'role': 'user',\n",
       "  'content': 'Früher habe ich eine Sprachkurs teilgenommen, aber es ist immer noch schwierig, eine Freundschaft zu schließen. Hast du eine Empfehlung davon?'},\n",
       " {'role': 'assistant',\n",
       "  'content': 'Es kann manchmal schwierig sein, neue Freundschaften zu knüpfen, aber es ist nicht unmöglich! Eine Sache, die du ausprobieren könntest, ist, dich in Freizeitaktivitäten oder Interessensgruppen zu engagieren, die deinen Hobbys oder Leidenschaften entsprechen. Das könnte zum Beispiel ein Sportverein, ein Leseclub oder ein freiwilliger Verein sein. Dadurch triffst du Menschen, die ähnliche Interessen haben wie du, und es fällt oft leichter, eine Verbindung aufzubauen. Vielleicht könntest du auch überlegen, einen Tandempartner zu finden, um deine Deutschkenntnisse zu verbessern und gleichzeitig neue Leute kennenzulernen. Es erfordert ein wenig Einsatz, aber es lohnt sich, um neue Freundschaften zu finden.'},\n",
       " {'role': 'user',\n",
       "  'content': 'Ja, noch hast du dich, ich könnte überlegen, dass eine Tandempartner zu finden, die die gleiche Interessenten mit mir haben.'},\n",
       " {'role': 'assistant',\n",
       "  'content': 'Das klingt nach einer großartigen Idee! Ein Tandempartner ist eine wunderbare Möglichkeit, deine Deutschkenntnisse zu verbessern und gleichzeitig neue Freundschaften zu schließen. Du könntest online nach Tandempartnern suchen, zum Beispiel in speziellen Facebook-Gruppen oder auf Tandem-Plattformen. Dort kannst du Menschen finden, die ähnliche Interessen haben wie du und sich darauf freuen, ihre Muttersprache mit dir zu teilen. Viel Glück bei der Suche nach einem passenden Tandempartner! Wenn du weitere Fragen hast oder Hilfe benötigst, stehe ich gerne zur Verfügung.'},\n",
       " {'role': 'user',\n",
       "  'content': 'Kannst du besondere Plattformen empfehlen, in dem ich eine Tandem finden kann?'},\n",
       " {'role': 'assistant',\n",
       "  'content': 'Natürlich! Es gibt verschiedene Plattformen, auf denen du einen Tandempartner finden kannst. Hier sind einige beliebte Optionen:\\n\\n- Tandem: Diese App verbindet Sprachenlernende aus aller Welt miteinander. Du kannst deine Sprachkenntnisse verbessern, indem du mit einem Muttersprachler sprichst und im Gegenzug deine Muttersprache mit ihm teilst.\\n\\n- Conversation Exchange: Auf dieser Website kannst du nach Sprachpartnern suchen, die deine Interessen teilen. Du kannst Nachrichten austauschen, Videochats führen oder dich sogar persönlich treffen, um Sprachen zu üben.\\n\\n- Meetup: Bei Meetup kannst du nach Gruppen suchen, die deine Interessen abdecken. Es gibt oft Sprachgruppen oder internationale Treffen, bei denen du andere Sprachbegeisterte kennenlernen und deine Sprachkenntnisse verbessern kannst.\\n\\n- Lokale Universitäten oder Sprachschulen: Manchmal bieten diese Einrichtungen Sprachaustauschprogramme oder Tandemveranstaltungen an. Es lohnt sich, dort nachzufragen, ob es solche Möglichkeiten gibt.\\n\\nIch hoffe, das hilft dir bei der Suche nach einem Tandempartner! Viel Erfolg und Spaß beim Lernen und Kennenlernen neuer Menschen!'}]"
      ]
     },
     "execution_count": 57,
     "metadata": {},
     "output_type": "execute_result"
    }
   ],
   "source": [
    "with open(\"chat_log.pkl\", \"rb\") as file:\n",
    "    chat_log = pickle.load(file)\n",
    "chat_log"
   ]
  },
  {
   "cell_type": "code",
   "execution_count": 80,
   "metadata": {},
   "outputs": [],
   "source": [
    "\n",
    "with open('prom.txt', 'r') as file:\n",
    "    content = file.read()\n",
    "\n",
    "#with open('prompt.txt', 'r') as file:\n",
    "    #content = [line.strip() for line in file.readlines()]\n",
    "\n",
    "def get_feedback(log):\n",
    "    # Define the system role to set the behavior of the chat assistant\n",
    "    messages = [\n",
    "        {\"role\": \"system\", \"content\" : content},\n",
    "        {\"role\": \"user\", \"content\" : log }]\n",
    "      \n",
    "    completion = openai.ChatCompletion.create(\n",
    "            model=\"gpt-3.5-turbo\",\n",
    "            messages=messages\n",
    "    )  \n",
    "        \n",
    "    chat_response = completion.choices[0].message.content  # Extract the response from the completion\n",
    "    print(f'CORRECTIONS:\\n{chat_response}'+ '\\n                    ---------------------------------------------------------------')  # Print the assistant's response\n",
    "\n"
   ]
  },
  {
   "cell_type": "code",
   "execution_count": 81,
   "metadata": {},
   "outputs": [
    {
     "name": "stdout",
     "output_type": "stream",
     "text": [
      "\n",
      "\n",
      "user: Hallo, wie war dein Tag?\n",
      "assistant: Hallo! Mein Tag war ganz gut, danke! Wie war deiner? Hast du etwas Besonderes gemacht?\n",
      "\n",
      "CORRECTIONS:\n",
      "user: Ja, mein Tag war auch gut. Ich habe nichts besonderes gemacht.\n",
      "Corrected User: Ja, mein Tag war auch gut. Ich habe nichts Besonderes gemacht.\n",
      "Error Type: Capitalization\n",
      "Explanation: In German, all nouns must be capitalized, including \"besonderes\" which is a noun in this context.\n",
      "Example: Heute habe ich nichts Besonderes vor. (I have nothing special planned for today.)\n",
      "                    ---------------------------------------------------------------\n",
      "\n",
      "\n",
      "user: Ich habe keine besondere Macht.\n",
      "assistant: Oh, das tut mir leid, ich meinte eigentlich, ob du etwas Besonderes gemacht hast. Hast du heute etwas Interessantes erlebt?\n",
      "\n",
      "CORRECTIONS:\n",
      "User: Ich habe keine besondere Macht.\n",
      "Corrected User: Ich habe nichts Besonderes gemacht.\n",
      "Error Type: Wrong Vocabulary Use\n",
      "Explanation: The word \"Macht\" translates to \"power\". The correct word is \"gemacht\" meaning \"done\".\n",
      "Example: Er hat etwas Besonderes gemacht. (He has done something special.)\n",
      "                    ---------------------------------------------------------------\n",
      "\n",
      "\n",
      "user: Es ist sehr schwierig in Deutschland eine interessante Aktivität zu finden.\n",
      "assistant: Verstehe ich. Deutschland bietet aber viele verschiedene Aktivitäten an, je nachdem was einen interessiert. Hast du schon mal überlegt, an einem Sprachkurs oder einer Sportgruppe teilzunehmen? Das könnte eine Möglichkeit sein, neue Menschen kennenzulernen und gleichzeitig etwas Interessantes zu erleben. Was hältst du davon?\n",
      "\n",
      "CORRECTIONS:\n",
      "user: Ja, das kann eine gute Idee sein. Ich werde es ausprobieren.\n",
      "Corrected user: Ja, das kann eine gute Idee sein. Ich werde es ausprobieren.\n",
      "Error Type: No errors found\n",
      "Explanation: The user's sentence is correct with no grammatical errors.\n",
      "Example: Ja, das kann eine gute Idee sein. Ich werde es ausprobieren. (Yes, that can be a good idea. I'll give it a try.)\n",
      "                    ---------------------------------------------------------------\n",
      "\n",
      "\n",
      "user: Früher habe ich eine Sprachkurs teilgenommen, aber es ist immer noch schwierig, eine Freundschaft zu schließen. Hast du eine Empfehlung davon?\n",
      "assistant: Es kann manchmal schwierig sein, neue Freundschaften zu knüpfen, aber es ist nicht unmöglich! Eine Sache, die du ausprobieren könntest, ist, dich in Freizeitaktivitäten oder Interessensgruppen zu engagieren, die deinen Hobbys oder Leidenschaften entsprechen. Das könnte zum Beispiel ein Sportverein, ein Leseclub oder ein freiwilliger Verein sein. Dadurch triffst du Menschen, die ähnliche Interessen haben wie du, und es fällt oft leichter, eine Verbindung aufzubauen. Vielleicht könntest du auch überlegen, einen Tandempartner zu finden, um deine Deutschkenntnisse zu verbessern und gleichzeitig neue Leute kennenzulernen. Es erfordert ein wenig Einsatz, aber es lohnt sich, um neue Freundschaften zu finden.\n",
      "\n",
      "CORRECTIONS:\n",
      "User: Früher habe ich eine Sprachkurs teilgenommen, aber es ist immer noch schwierig, eine Freundschaft zu schließen. Hast du eine Empfehlung davon?\n",
      "Corrected User: Früher habe ich an einem Sprachkurs teilgenommen, aber es ist immer noch schwierig, Freundschaften zu schließen. Hast du eine Empfehlung dafür?\n",
      "Error Type: Missing preposition, Wrong word order\n",
      "Explanation: The preposition \"an\" is needed to indicate participation \"an einem Sprachkurs\". Additionally, the word order in the second sentence is incorrect. The correct word order is \"Hast du eine Empfehlung dafür?\" meaning \"Do you have a recommendation for it?\"\n",
      "Example: Ich habe an einem Sprachkurs teilgenommen. (I have participated in a language course)\n",
      "                    ---------------------------------------------------------------\n",
      "\n",
      "\n",
      "user: Ja, noch hast du dich, ich könnte überlegen, dass eine Tandempartner zu finden, die die gleiche Interessenten mit mir haben.\n",
      "assistant: Das klingt nach einer großartigen Idee! Ein Tandempartner ist eine wunderbare Möglichkeit, deine Deutschkenntnisse zu verbessern und gleichzeitig neue Freundschaften zu schließen. Du könntest online nach Tandempartnern suchen, zum Beispiel in speziellen Facebook-Gruppen oder auf Tandem-Plattformen. Dort kannst du Menschen finden, die ähnliche Interessen haben wie du und sich darauf freuen, ihre Muttersprache mit dir zu teilen. Viel Glück bei der Suche nach einem passenden Tandempartner! Wenn du weitere Fragen hast oder Hilfe benötigst, stehe ich gerne zur Verfügung.\n",
      "\n",
      "CORRECTIONS:\n",
      "User: Ja, noch hast du dich, ich könnte überlegen, dass eine Tandempartner zu finden, die die gleiche Interessenten mit mir haben.\n",
      "\n",
      "Corrected User: Ja, du hörst dich gut an, ich könnte darüber nachdenken, einen Tandempartner zu finden, der dieselben Interessen wie ich hat.\n",
      "\n",
      "Error Type: Wrong vocabulary use, word order\n",
      "Explanation: The word \"noch\" does not fit in this context. \"Hörst\" should be used instead of \"hast\". \"Interessenten\" should be \"Interessen\".\n",
      "\n",
      "Example: Ja, du klingst gut. Ich könnte darüber nachdenken, einen Tandempartner zu finden, der dieselben Interessen wie ich hat. (Yes, you sound good. I could consider finding a tandem partner who has the same interests as me.)\n",
      "                    ---------------------------------------------------------------\n",
      "\n",
      "\n",
      "user: Kannst du besondere Plattformen empfehlen, in dem ich eine Tandem finden kann?\n",
      "assistant: Natürlich! Es gibt verschiedene Plattformen, auf denen du einen Tandempartner finden kannst. Hier sind einige beliebte Optionen:\n",
      "\n",
      "- Tandem: Diese App verbindet Sprachenlernende aus aller Welt miteinander. Du kannst deine Sprachkenntnisse verbessern, indem du mit einem Muttersprachler sprichst und im Gegenzug deine Muttersprache mit ihm teilst.\n",
      "\n",
      "- Conversation Exchange: Auf dieser Website kannst du nach Sprachpartnern suchen, die deine Interessen teilen. Du kannst Nachrichten austauschen, Videochats führen oder dich sogar persönlich treffen, um Sprachen zu üben.\n",
      "\n",
      "- Meetup: Bei Meetup kannst du nach Gruppen suchen, die deine Interessen abdecken. Es gibt oft Sprachgruppen oder internationale Treffen, bei denen du andere Sprachbegeisterte kennenlernen und deine Sprachkenntnisse verbessern kannst.\n",
      "\n",
      "- Lokale Universitäten oder Sprachschulen: Manchmal bieten diese Einrichtungen Sprachaustauschprogramme oder Tandemveranstaltungen an. Es lohnt sich, dort nachzufragen, ob es solche Möglichkeiten gibt.\n",
      "\n",
      "Ich hoffe, das hilft dir bei der Suche nach einem Tandempartner! Viel Erfolg und Spaß beim Lernen und Kennenlernen neuer Menschen!\n",
      "\n",
      "CORRECTIONS:\n",
      "User: Kannst du besondere Plattformen empfehlen, in dem ich eine Tandem finden kann?\n",
      "Corrected User: Kannst du besondere Plattformen empfehlen, auf denen ich einen Tandempartner finden kann?\n",
      "Error Type: Preposition Error\n",
      "Explanation: The preposition \"in dem\" should be replaced with \"auf denen\" to indicate the location or platform where the user can find a Tandem partner.\n",
      "Example: Kannst du besondere Bücher empfehlen, in denen ich etwas Neues lernen kann? (Can you recommend any special books in which I can learn something new?)\n",
      "                    ---------------------------------------------------------------\n"
     ]
    }
   ],
   "source": [
    "\n",
    "assert len(chat_log) % 2  != 0 , \"the length of chat is not appropriate   \"\n",
    "for i in range((len(chat_log)-1)//2):\n",
    "    string = chat_log[2*i+1][\"role\"] + ': ' + chat_log[2*i+1][\"content\"] +'\\n' + chat_log[2*i+2][\"role\"] +': '+ chat_log[2*i+2][\"content\"]\n",
    "    print('\\n\\n' + string+ '\\n')\n",
    "    get_feedback(string)\n",
    "\n",
    "\n",
    "\n"
   ]
  }
 ],
 "metadata": {
  "kernelspec": {
   "display_name": "Python 3",
   "language": "python",
   "name": "python3"
  },
  "language_info": {
   "codemirror_mode": {
    "name": "ipython",
    "version": 3
   },
   "file_extension": ".py",
   "mimetype": "text/x-python",
   "name": "python",
   "nbconvert_exporter": "python",
   "pygments_lexer": "ipython3",
   "version": "3.9.6"
  },
  "orig_nbformat": 4
 },
 "nbformat": 4,
 "nbformat_minor": 2
}
