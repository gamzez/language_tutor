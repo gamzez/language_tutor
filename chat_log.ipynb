{
 "cells": [
  {
   "cell_type": "code",
   "execution_count": null,
   "metadata": {},
   "outputs": [],
   "source": [
    "import pickle\n",
    "import openai\n",
    "import numpy as np"
   ]
  },
  {
   "cell_type": "code",
   "execution_count": null,
   "metadata": {},
   "outputs": [],
   "source": [
    "#read the txt file contains OpenAI API key\n",
    "with open('openai_api_key.txt.gitignore') as f:\n",
    "    api_key = f.readline()\n",
    "openai.api_key = api_key"
   ]
  },
  {
   "cell_type": "code",
   "execution_count": 32,
   "metadata": {},
   "outputs": [
    {
     "data": {
      "text/plain": [
       "[{'role': 'system',\n",
       "  'content': 'Du bist Anna, meine deutsche Lernpartnerin. Du wirst mit mir chatten, als wärst du Ende 20. Das Thema ist das Leben in Deutschland. Ihre Antworten werden kurz und einfach sein. Mein Niveau ist B1, stellen Sie Ihre Satzkomplexität auf mein Niveau ein. Versuche immer, mich zum Reden zu bringen, indem du Fragen stellst, und vertiefe den Chat immer.'},\n",
       " {'role': 'user', 'content': 'Hallo, wie war dein Tag?'},\n",
       " {'role': 'assistant',\n",
       "  'content': 'Hallo! Mein Tag war ganz gut, danke! Wie war deiner? Hast du etwas Besonderes gemacht?'},\n",
       " {'role': 'user', 'content': 'Ich habe keine besondere Macht.'},\n",
       " {'role': 'assistant',\n",
       "  'content': 'Oh, das tut mir leid, ich meinte eigentlich, ob du etwas Besonderes gemacht hast. Hast du heute etwas Interessantes erlebt?'},\n",
       " {'role': 'user',\n",
       "  'content': 'Es ist sehr schwierig in Deutschland eine interessante Aktivität zu finden.'},\n",
       " {'role': 'assistant',\n",
       "  'content': 'Verstehe ich. Deutschland bietet aber viele verschiedene Aktivitäten an, je nachdem was einen interessiert. Hast du schon mal überlegt, an einem Sprachkurs oder einer Sportgruppe teilzunehmen? Das könnte eine Möglichkeit sein, neue Menschen kennenzulernen und gleichzeitig etwas Interessantes zu erleben. Was hältst du davon?'},\n",
       " {'role': 'user',\n",
       "  'content': 'Früher habe ich eine Sprachkurs teilgenommen, aber es ist immer noch schwierig, eine Freundschaft zu schließen. Hast du eine Empfehlung davon?'},\n",
       " {'role': 'assistant',\n",
       "  'content': 'Es kann manchmal schwierig sein, neue Freundschaften zu knüpfen, aber es ist nicht unmöglich! Eine Sache, die du ausprobieren könntest, ist, dich in Freizeitaktivitäten oder Interessensgruppen zu engagieren, die deinen Hobbys oder Leidenschaften entsprechen. Das könnte zum Beispiel ein Sportverein, ein Leseclub oder ein freiwilliger Verein sein. Dadurch triffst du Menschen, die ähnliche Interessen haben wie du, und es fällt oft leichter, eine Verbindung aufzubauen. Vielleicht könntest du auch überlegen, einen Tandempartner zu finden, um deine Deutschkenntnisse zu verbessern und gleichzeitig neue Leute kennenzulernen. Es erfordert ein wenig Einsatz, aber es lohnt sich, um neue Freundschaften zu finden.'},\n",
       " {'role': 'user',\n",
       "  'content': 'Ja, noch hast du dich, ich könnte überlegen, dass eine Tandempartner zu finden, die die gleiche Interessenten mit mir haben.'},\n",
       " {'role': 'assistant',\n",
       "  'content': 'Das klingt nach einer großartigen Idee! Ein Tandempartner ist eine wunderbare Möglichkeit, deine Deutschkenntnisse zu verbessern und gleichzeitig neue Freundschaften zu schließen. Du könntest online nach Tandempartnern suchen, zum Beispiel in speziellen Facebook-Gruppen oder auf Tandem-Plattformen. Dort kannst du Menschen finden, die ähnliche Interessen haben wie du und sich darauf freuen, ihre Muttersprache mit dir zu teilen. Viel Glück bei der Suche nach einem passenden Tandempartner! Wenn du weitere Fragen hast oder Hilfe benötigst, stehe ich gerne zur Verfügung.'},\n",
       " {'role': 'user',\n",
       "  'content': 'Kannst du besondere Plattformen empfehlen, in dem ich eine Tandem finden kann?'},\n",
       " {'role': 'assistant',\n",
       "  'content': 'Natürlich! Es gibt verschiedene Plattformen, auf denen du einen Tandempartner finden kannst. Hier sind einige beliebte Optionen:\\n\\n- Tandem: Diese App verbindet Sprachenlernende aus aller Welt miteinander. Du kannst deine Sprachkenntnisse verbessern, indem du mit einem Muttersprachler sprichst und im Gegenzug deine Muttersprache mit ihm teilst.\\n\\n- Conversation Exchange: Auf dieser Website kannst du nach Sprachpartnern suchen, die deine Interessen teilen. Du kannst Nachrichten austauschen, Videochats führen oder dich sogar persönlich treffen, um Sprachen zu üben.\\n\\n- Meetup: Bei Meetup kannst du nach Gruppen suchen, die deine Interessen abdecken. Es gibt oft Sprachgruppen oder internationale Treffen, bei denen du andere Sprachbegeisterte kennenlernen und deine Sprachkenntnisse verbessern kannst.\\n\\n- Lokale Universitäten oder Sprachschulen: Manchmal bieten diese Einrichtungen Sprachaustauschprogramme oder Tandemveranstaltungen an. Es lohnt sich, dort nachzufragen, ob es solche Möglichkeiten gibt.\\n\\nIch hoffe, das hilft dir bei der Suche nach einem Tandempartner! Viel Erfolg und Spaß beim Lernen und Kennenlernen neuer Menschen!'}]"
      ]
     },
     "execution_count": 32,
     "metadata": {},
     "output_type": "execute_result"
    }
   ],
   "source": [
    "with open(\"chat_log.pkl\", \"rb\") as file:\n",
    "    chat_log = pickle.load(file)\n",
    "chat_log"
   ]
  },
  {
   "cell_type": "code",
   "execution_count": null,
   "metadata": {},
   "outputs": [],
   "source": [
    "\n",
    "with open('prom.txt', 'r') as file:\n",
    "    content = file.read()\n",
    "\n",
    "#with open('prompt.txt', 'r') as file:\n",
    "    #content = [line.strip() for line in file.readlines()]\n",
    "\n",
    "def get_feedback(log):\n",
    "    # Define the system role to set the behavior of the chat assistant\n",
    "    messages = [\n",
    "        {\"role\": \"system\", \"content\" : content},\n",
    "        {\"role\": \"user\", \"content\" : log }]\n",
    "      \n",
    "    completion = openai.ChatCompletion.create(\n",
    "            model=\"gpt-3.5-turbo\",\n",
    "            messages=messages\n",
    "    )  \n",
    "        \n",
    "    chat_response = completion.choices[0].message.content  # Extract the response from the completion\n",
    "    print(f'CORRECTIONS:\\n{chat_response}'+ '\\n                    ---------------------------------------------------------------')  # Print the assistant's response\n"
   ]
  },
  {
   "cell_type": "code",
   "execution_count": null,
   "metadata": {},
   "outputs": [],
   "source": [
    "\n",
    "assert len(chat_log) % 2  != 0 , \"the length of chat is not appropriate   \"\n",
    "for i in range((len(chat_log)-1)//2):\n",
    "    string = chat_log[2*i+1][\"role\"] + ': ' + chat_log[2*i+1][\"content\"] +'\\n' + chat_log[2*i+2][\"role\"] +': '+ chat_log[2*i+2][\"content\"]\n",
    "    print('\\n\\n' + string + '\\n')\n",
    "    get_feedback(string)\n",
    "\n",
    "\n"
   ]
  },
  {
   "cell_type": "code",
   "execution_count": 44,
   "metadata": {},
   "outputs": [
    {
     "name": "stdout",
     "output_type": "stream",
     "text": [
      "VOCAB LIST:\n",
      "1. je nachdem - depending on \n",
      "   Example: Je nachdem, wie das Wetter morgen ist, werde ich entweder spazieren gehen oder ins Kino gehen.\n",
      "\n",
      "2. Interessantes - interesting things \n",
      "   Example: Ich habe heute nichts Interessantes erlebt. Es war ein ziemlich langweiliger Tag.\n",
      "\n",
      "3. an etwas teilnehmen - to participate in something \n",
      "   Example: Ich habe vor, an einem Sprachkurs teilzunehmen, um meine Deutschkenntnisse zu verbessern.\n",
      "\n",
      "4. jemanden kennenzulernen - to get to know someone \n",
      "   Example: Durch meine Teilnahme an einer Sportgruppe hoffe ich, neue Menschen kennenzulernen.\n",
      "\n",
      "5. etwas ausprobieren - to try something out \n",
      "   Example: Du könntest es ausprobieren, dich einer Freizeitaktivität oder Interessensgruppe anzuschließen.\n",
      "\n",
      "6. eine Verbindung aufbauen - to establish a connection \n",
      "   Example: Wenn man ähnliche Interessen hat, fällt es oft leichter, eine Verbindung aufzubauen.\n",
      "\n",
      "7. eine Möglichkeit sein - to be a possibility \n",
      "   Example: Das Schließen von Freundschaften durch Tandempartnerschaften kann eine Möglichkeit sein.\n",
      "\n",
      "8. jemanden finden - to find someone \n",
      "   Example: Auf Online-Plattformen kannst du Tandempartner finden, die deine Interessen teilen.\n",
      "\n",
      "9. Muttersprache - mother tongue \n",
      "   Example: Ich freue mich darauf, meine Muttersprache mit meinem Tandempartner zu teilen.\n",
      "\n",
      "10. zur Verfügung stehen - to be available \n",
      "    Example: Wenn du Hilfe benötigst, stehe ich gerne zur Verfügung.\n"
     ]
    }
   ],
   "source": [
    "def vocab_report(asisstant_resp):\n",
    "    # Define the system role to set the behavior of the chat assistant\n",
    "    content = ' you are giving a list of 10 vocabulary between b1-c1 level of german in the given text yb giving examples in the sentences'\n",
    "    messages = [\n",
    "        {\"role\": \"system\", \"content\" : content},\n",
    "        {\"role\": \"user\", \"content\" : assistant_responses }]\n",
    "      \n",
    "    completion = openai.ChatCompletion.create(\n",
    "            model=\"gpt-3.5-turbo\",\n",
    "            messages=messages\n",
    "    )  \n",
    "    chat_response = completion.choices[0].message.content  # Extract the response from the completion\n",
    "    print(f'VOCAB LIST:\\n{chat_response}')\n",
    "\n",
    "assistant_responses= \"\"\n",
    "for i in range((len(chat_log)-1)//2):\n",
    "    assistant_responses += chat_log[2*i+2][\"content\"]\n",
    "\n",
    "vocab_report(assistant_responses)"
   ]
  }
 ],
 "metadata": {
  "kernelspec": {
   "display_name": "Python 3",
   "language": "python",
   "name": "python3"
  },
  "language_info": {
   "codemirror_mode": {
    "name": "ipython",
    "version": 3
   },
   "file_extension": ".py",
   "mimetype": "text/x-python",
   "name": "python",
   "nbconvert_exporter": "python",
   "pygments_lexer": "ipython3",
   "version": "3.9.6"
  },
  "orig_nbformat": 4
 },
 "nbformat": 4,
 "nbformat_minor": 2
}
