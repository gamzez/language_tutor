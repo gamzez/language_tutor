{
 "cells": [
  {
   "cell_type": "code",
   "execution_count": null,
   "metadata": {},
   "outputs": [],
   "source": [
    "import pickle\n",
    "import openai\n",
    "import numpy as np\n"
   ]
  },
  {
   "cell_type": "code",
   "execution_count": null,
   "metadata": {},
   "outputs": [],
   "source": [
    "#read the txt file contains OpenAI API key\n",
    "with open('openai_api_key.txt.gitignore') as f:\n",
    "    api_key = f.readline()\n",
    "openai.api_key = api_key"
   ]
  },
  {
   "cell_type": "code",
   "execution_count": 38,
   "metadata": {},
   "outputs": [
    {
     "data": {
      "text/plain": [
       "[{'role': 'system',\n",
       "  'content': 'Du bist Anna, meine deutsche Lernpartnerin. Du wirst mit mir chatten, als wärst du Ende 20. Das Thema ist das Leben in Deutschland. Ihre Antworten werden kurz und einfach sein. Mein Niveau ist B1, stellen Sie Ihre Satzkomplexität auf mein Niveau ein. Versuche immer, mich zum Reden zu bringen, indem du Fragen stellst, und vertiefe den Chat immer.'},\n",
       " {'role': 'user', 'content': 'Hallo, wie war dein Tag?'},\n",
       " {'role': 'assistant',\n",
       "  'content': 'Hallo! Mein Tag war ganz gut, danke! Wie war deiner? Hast du etwas Besonderes gemacht?'},\n",
       " {'role': 'user', 'content': 'Ich habe keine besondere Macht.'},\n",
       " {'role': 'assistant',\n",
       "  'content': 'Oh, das tut mir leid, ich meinte eigentlich, ob du etwas Besonderes gemacht hast. Hast du heute etwas Interessantes erlebt?'},\n",
       " {'role': 'user',\n",
       "  'content': 'Es ist sehr schwierig in Deutschland eine interessante Aktivität zu finden.'},\n",
       " {'role': 'assistant',\n",
       "  'content': 'Verstehe ich. Deutschland bietet aber viele verschiedene Aktivitäten an, je nachdem was einen interessiert. Hast du schon mal überlegt, an einem Sprachkurs oder einer Sportgruppe teilzunehmen? Das könnte eine Möglichkeit sein, neue Menschen kennenzulernen und gleichzeitig etwas Interessantes zu erleben. Was hältst du davon?'},\n",
       " {'role': 'user',\n",
       "  'content': 'Früher habe ich eine Sprachkurs teilgenommen, aber es ist immer noch schwierig, eine Freundschaft zu schließen. Hast du eine Empfehlung davon?'},\n",
       " {'role': 'assistant',\n",
       "  'content': 'Es kann manchmal schwierig sein, neue Freundschaften zu knüpfen, aber es ist nicht unmöglich! Eine Sache, die du ausprobieren könntest, ist, dich in Freizeitaktivitäten oder Interessensgruppen zu engagieren, die deinen Hobbys oder Leidenschaften entsprechen. Das könnte zum Beispiel ein Sportverein, ein Leseclub oder ein freiwilliger Verein sein. Dadurch triffst du Menschen, die ähnliche Interessen haben wie du, und es fällt oft leichter, eine Verbindung aufzubauen. Vielleicht könntest du auch überlegen, einen Tandempartner zu finden, um deine Deutschkenntnisse zu verbessern und gleichzeitig neue Leute kennenzulernen. Es erfordert ein wenig Einsatz, aber es lohnt sich, um neue Freundschaften zu finden.'},\n",
       " {'role': 'user',\n",
       "  'content': 'Ja, noch hast du dich, ich könnte überlegen, dass eine Tandempartner zu finden, die die gleiche Interessenten mit mir haben.'},\n",
       " {'role': 'assistant',\n",
       "  'content': 'Das klingt nach einer großartigen Idee! Ein Tandempartner ist eine wunderbare Möglichkeit, deine Deutschkenntnisse zu verbessern und gleichzeitig neue Freundschaften zu schließen. Du könntest online nach Tandempartnern suchen, zum Beispiel in speziellen Facebook-Gruppen oder auf Tandem-Plattformen. Dort kannst du Menschen finden, die ähnliche Interessen haben wie du und sich darauf freuen, ihre Muttersprache mit dir zu teilen. Viel Glück bei der Suche nach einem passenden Tandempartner! Wenn du weitere Fragen hast oder Hilfe benötigst, stehe ich gerne zur Verfügung.'},\n",
       " {'role': 'user',\n",
       "  'content': 'Kannst du besondere Plattformen empfehlen, in dem ich eine Tandem finden kann?'},\n",
       " {'role': 'assistant',\n",
       "  'content': 'Natürlich! Es gibt verschiedene Plattformen, auf denen du einen Tandempartner finden kannst. Hier sind einige beliebte Optionen:\\n\\n- Tandem: Diese App verbindet Sprachenlernende aus aller Welt miteinander. Du kannst deine Sprachkenntnisse verbessern, indem du mit einem Muttersprachler sprichst und im Gegenzug deine Muttersprache mit ihm teilst.\\n\\n- Conversation Exchange: Auf dieser Website kannst du nach Sprachpartnern suchen, die deine Interessen teilen. Du kannst Nachrichten austauschen, Videochats führen oder dich sogar persönlich treffen, um Sprachen zu üben.\\n\\n- Meetup: Bei Meetup kannst du nach Gruppen suchen, die deine Interessen abdecken. Es gibt oft Sprachgruppen oder internationale Treffen, bei denen du andere Sprachbegeisterte kennenlernen und deine Sprachkenntnisse verbessern kannst.\\n\\n- Lokale Universitäten oder Sprachschulen: Manchmal bieten diese Einrichtungen Sprachaustauschprogramme oder Tandemveranstaltungen an. Es lohnt sich, dort nachzufragen, ob es solche Möglichkeiten gibt.\\n\\nIch hoffe, das hilft dir bei der Suche nach einem Tandempartner! Viel Erfolg und Spaß beim Lernen und Kennenlernen neuer Menschen!'}]"
      ]
     },
     "execution_count": 38,
     "metadata": {},
     "output_type": "execute_result"
    }
   ],
   "source": [
    "with open(\"chat_log.pkl\", \"rb\") as file:\n",
    "    chat_log = pickle.load(file)\n",
    "chat_log"
   ]
  },
  {
   "cell_type": "code",
   "execution_count": 42,
   "metadata": {},
   "outputs": [
    {
     "name": "stdout",
     "output_type": "stream",
     "text": [
      "system: Du bist Anna, meine deutsche Lernpartnerin. Du wirst mit mir chatten, als wärst du Ende 20. Das Thema ist das Leben in Deutschland. Ihre Antworten werden kurz und einfach sein. Mein Niveau ist B1, stellen Sie Ihre Satzkomplexität auf mein Niveau ein. Versuche immer, mich zum Reden zu bringen, indem du Fragen stellst, und vertiefe den Chat immer.\n",
      "\n"
     ]
    }
   ],
   "source": [
    "def convert_log_to_string(log, include_roles = [\"user\", \"assistant\"]):\n",
    "    text_log = \"\"\n",
    "    log_of_included_roles = [i for i in log if i[\"role\"] in include_roles]\n",
    "    for chat_entry in log_of_included_roles:\n",
    "        role = chat_entry[\"role\"]\n",
    "        content = chat_entry[\"content\"]\n",
    "        text_log = text_log + f\"{role}: {content}\\n\"\n",
    "    return text_log\n",
    "text_log = convert_log_to_string(chat_log, include_roles=[\"user\"])"
   ]
  },
  {
   "cell_type": "code",
   "execution_count": 45,
   "metadata": {},
   "outputs": [
    {
     "name": "stdout",
     "output_type": "stream",
     "text": [
      "ChatGPT: Assistent: Hallo! Mein Tag war gut, danke. Wie war deiner?\n",
      "Assistent: Ich habe keine besonderen Kräfte.\n",
      "Assistent: Es kann schwierig sein, in Deutschland eine interessante Aktivität zu finden.\n",
      "Assistent: Früher habe ich an einem Sprachkurs teilgenommen, aber es ist immer noch schwierig, Freundschaften zu schließen. Hast du eine Empfehlung dazu?\n",
      "Assistent: Ja, vielleicht könntest du darüber nachdenken, einen Tandempartner zu finden, der ähnliche Interessen hat wie du.\n",
      "Assistent: Kannst du mir spezielle Plattformen empfehlen, auf denen ich einen Tandempartner finden kann?\n",
      "\n",
      "Errors:\n",
      "1. In the user's first line, \"dein\" should be \"dein Tag\" to be grammatically correct.\n",
      "2. In the user's second line, \"Ich habe keine besondere Macht\" is correct, but it would be more idiomatic to use \"Kräfte\" instead of \"Macht\" in this context.\n",
      "3. In the user's third line, \"eine Sprachkurs\" should be \"an einem Sprachkurs\".\n",
      "4. In the user's fourth line, \"Hast du eine Empfehlung davon?\" should be \"Hast du eine Empfehlung dazu?\".\n",
      "5. In the user's fifth line, \"noch hast du dich\" should be \"noch bin ich hier\".\n",
      "6. In the user's fifth line, \"eine Tandempartner\" should be \"einen Tandempartner\".\n",
      "7. In the user's sixth line, \"die gleiche Interessenten\" should be \"die gleichen Interessen\".\n",
      "8. In the user's sixth line, \"mit mir haben\" should be \"wie ich\".\n",
      "9. In the user's seventh line, \"Kannst du besondere Plattformen empfehlen\" should be \"Kannst du mir spezielle Plattformen empfehlen\".\n",
      "10. In the user's seventh line, \"in dem ich eine Tandem finden kann\" should be \"auf denen ich einen Tandempartner finden kann\".\n",
      "\n",
      "Corrected Examples:\n",
      "user: Hallo, wie war dein Tag?\n",
      "Corrected: Hallo, wie war dein Tag heute?\n",
      "\n",
      "user: Ich habe keine besondere Macht.\n",
      "Corrected: Ich habe keine besonderen Kräfte.\n",
      "\n",
      "user: Es ist sehr schwierig in Deutschland eine interessante Aktivität zu finden.\n",
      "Corrected: Es kann schwierig sein, in Deutschland eine interessante Aktivität zu finden.\n",
      "\n",
      "user: Früher habe ich eine Sprachkurs teilgenommen, aber es ist immer noch schwierig, eine Freundschaft zu schließen. Hast du eine Empfehlung davon?\n",
      "Corrected: Früher habe ich an einem Sprachkurs teilgenommen, aber es ist immer noch schwierig, Freundschaften zu schließen. Hast du eine Empfehlung dazu?\n",
      "\n",
      "user: Ja, noch hast du dich, ich könnte überlegen, dass eine Tandempartner zu finden, die die gleiche Interessenten mit mir haben.\n",
      "Corrected: Ja, noch bin ich hier. Ich könnte darüber nachdenken, einen Tandempartner zu finden, der ähnliche Interessen wie ich hat.\n",
      "\n",
      "user: Kannst du besondere Plattformen empfehlen, in dem ich eine Tandem finden kann?\n",
      "Corrected: Kannst du mir spezielle Plattformen empfehlen, auf denen ich einen Tandempartner finden kann?\n"
     ]
    }
   ],
   "source": [
    "def get_feedback(log):\n",
    "    # Define the system role to set the behavior of the chat assistant\n",
    "    text_log = convert_log_to_string(log, include_roles=[\"user\"])\n",
    "    messages = [\n",
    "        {\"role\": \"system\", \"content\" : \"As a helpful German language teacher, your task is to review a chat in German. The chat consists of a dialogue between a user and an assistant. Your job is to check the chat for grammar, meaning, and vocabulary errors. After reviewing the chat, please provide a clear list of the errors and offer examples of correct usage. \"},\n",
    "        {\"role\": \"user\", \"content\" : text_log }]\n",
    "      \n",
    "    completion = openai.ChatCompletion.create(\n",
    "            model=\"gpt-3.5-turbo\",\n",
    "            messages=messages\n",
    "    )  \n",
    "        \n",
    "    chat_response = completion.choices[0].message.content  # Extract the response from the completion\n",
    "    print(f'ChatGPT: {chat_response}')  # Print the assistant's response\n",
    "get_feedback(chat_log)\n",
    "        "
   ]
  },
  {
   "cell_type": "code",
   "execution_count": 30,
   "metadata": {},
   "outputs": [
    {
     "name": "stdout",
     "output_type": "stream",
     "text": [
      "ChatGPT: user: Hallo, wie war dein Tag?\n",
      "assistant: Hallo! Mein Tag war ganz gut, danke! Wie war deiner? Hast du etwas Besonderes gemacht?\n",
      "user: Ich habe keine besondere Macht.\n",
      "assistant: Oh, das tut mir leid, ich meinte eigentlich, ob du etwas Besonderes gemacht hast. Hast du heute etwas Interessantes erlebt?\n",
      "user: Es ist sehr schwierig in Deutschland eine interessante Aktivität zu finden.\n",
      "assistant: Verstehe ich. Deutschland bietet aber viele verschiedene Aktivitäten an, je nachdem, was einen interessiert. Hast du schon mal überlegt, an einem Sprachkurs oder einer Sportgruppe teilzunehmen? Das könnte eine Möglichkeit sein, neue Menschen kennenzulernen und gleichzeitig etwas Interessantes zu erleben. Was hältst du davon?\n",
      "user: Früher habe ich einen Sprachkurs besucht, aber es ist immer noch schwierig, Freundschaften zu schließen. Hast du eine Empfehlung dafür?\n",
      "assistant: Es kann manchmal schwierig sein, neue Freundschaften zu knüpfen, aber es ist nicht unmöglich! Eine Sache, die du ausprobieren könntest, ist, dich in Freizeitaktivitäten oder Interessensgruppen zu engagieren, die deinen Hobbys oder Leidenschaften entsprechen. Das könnte zum Beispiel ein Sportverein, ein Leseclub oder ein freiwilliger Verein sein. Dadurch triffst du Menschen, die ähnliche Interessen haben wie du und es fällt oft leichter, eine Verbindung aufzubauen. Vielleicht könntest du auch überlegen, einen Tandempartner zu finden, um deine Deutschkenntnisse zu verbessern und gleichzeitig neue Leute kennenzulernen. Es erfordert ein wenig Einsatz, aber es lohnt sich, um neue Freundschaften zu finden.\n",
      "user: Ja, das hast du recht, ich könnte darüber nachdenken, einen Tandempartner zu finden, der die gleichen Interessen wie ich hat.\n",
      "assistant: Das klingt nach einer großartigen Idee! Ein Tandempartner ist eine wunderbare Möglichkeit, deine Deutschkenntnisse zu verbessern und gleichzeitig neue Freundschaften zu schließen. Du könntest online nach Tandempartnern suchen, zum Beispiel in speziellen Facebook-Gruppen oder auf Tandem-Plattformen. Dort kannst du Menschen finden, die ähnliche Interessen haben wie du und sich darauf freuen, ihre Muttersprache mit dir zu teilen. Viel Glück bei der Suche nach einem passenden Tandempartner! Wenn du weitere Fragen hast oder Hilfe benötigst, stehe ich gerne zur Verfügung.\n",
      "user: Kannst du besondere Plattformen empfehlen, auf welchen ich einen Tandempartner finden kann?\n",
      "assistant: Natürlich! Es gibt verschiedene Plattformen, auf denen du einen Tandempartner finden kannst. Hier sind einige beliebte Optionen:\n",
      "\n",
      "- Tandem: Diese App verbindet Sprachenlernende aus aller Welt miteinander. Du kannst deine Sprachkenntnisse verbessern, indem du mit einem Muttersprachler sprichst und im Gegenzug deine Muttersprache mit ihm teilst.\n",
      "\n",
      "- Conversation Exchange: Auf dieser Website kannst du nach Sprachpartnern suchen, die deine Interessen teilen. Du kannst Nachrichten austauschen, Videochats führen oder dich sogar persönlich treffen, um Sprachen zu üben.\n",
      "\n",
      "- Meetup: Bei Meetup kannst du nach Gruppen suchen, die deine Interessen abdecken. Es gibt oft Sprachgruppen oder internationale Treffen, bei denen du andere Sprachbegeisterte kennenlernen und deine Sprachkenntnisse verbessern kannst.\n",
      "\n",
      "- Lokale Universitäten oder Sprachschulen: Manchmal bieten diese Einrichtungen Sprachaustauschprogramme oder Tandemveranstaltungen an. Es lohnt sich, dort nachzufragen, ob es solche Möglichkeiten gibt.\n",
      "\n",
      "Ich hoffe, das hilft dir bei der Suche nach einem Tandempartner! Viel Erfolg und Spaß beim Lernen und Kennenlernen neuer Menschen!\n"
     ]
    }
   ],
   "source": [
    "messages = [\n",
    "        {\"role\": \"system\", \"content\" : \"As a helpful German language teacher, your task is to review a chat in German. The chat consists of a dialogue between a user and an assistant. Your job is to check the chat for grammar, meaning, and vocabulary errors. After reviewing the chat, please provide a clear list of the errors and offer examples of correct usage. \"},\n",
    "        {\"role\": \"user\", \"content\" : text_log }]\n",
    "      \n",
    "completion = openai.ChatCompletion.create(\n",
    "  model=\"gpt-3.5-turbo\",\n",
    "  messages=messages\n",
    ")\n",
    "\n",
    "chat_response = completion.choices[0].message.content\n",
    "print(f'ChatGPT: {chat_response}')\n",
    "\n"
   ]
  }
 ],
 "metadata": {
  "kernelspec": {
   "display_name": "Python 3",
   "language": "python",
   "name": "python3"
  },
  "language_info": {
   "codemirror_mode": {
    "name": "ipython",
    "version": 3
   },
   "file_extension": ".py",
   "mimetype": "text/x-python",
   "name": "python",
   "nbconvert_exporter": "python",
   "pygments_lexer": "ipython3",
   "version": "3.9.6"
  },
  "orig_nbformat": 4
 },
 "nbformat": 4,
 "nbformat_minor": 2
}
