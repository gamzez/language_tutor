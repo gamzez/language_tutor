{
 "cells": [
  {
   "cell_type": "code",
   "execution_count": 1,
   "metadata": {},
   "outputs": [
    {
     "name": "stderr",
     "output_type": "stream",
     "text": [
      "/Users/gamze/Library/Python/3.9/lib/python/site-packages/urllib3/__init__.py:34: NotOpenSSLWarning: urllib3 v2.0 only supports OpenSSL 1.1.1+, currently the 'ssl' module is compiled with 'LibreSSL 2.8.3'. See: https://github.com/urllib3/urllib3/issues/3020\n",
      "  warnings.warn(\n"
     ]
    }
   ],
   "source": [
    "import pickle\n",
    "import openai\n",
    "import numpy as np\n",
    "import os"
   ]
  },
  {
   "cell_type": "code",
   "execution_count": 5,
   "metadata": {},
   "outputs": [],
   "source": [
    "#read the txt file contains OpenAI API key\n",
    "with open('openai_api_key.txt.gitignore') as f:\n",
    "    api_key = f.readline()\n",
    "openai.api_key = api_key"
   ]
  },
  {
   "cell_type": "code",
   "execution_count": 10,
   "metadata": {},
   "outputs": [
    {
     "data": {
      "text/plain": [
       "[{'role': 'assistant', 'content': 'Hallo! Wie geht es dir?'},\n",
       " {'role': 'user',\n",
       "  'content': 'Danke, es geht mir gut und ja. Bist du meine Language Tutor oder nie?'},\n",
       " {'role': 'assistant',\n",
       "  'content': 'Ja genau, ich bin deine Sprachpartnerin und werde dir gerne beim Deutschlernen helfen! Wie kann ich dir heute weiterhelfen?'},\n",
       " {'role': 'user',\n",
       "  'content': 'Wir könnten über ein bestimmtes Thema reden, aber ich habe keine Idee. Hast du eine Empfehlung dafür?'},\n",
       " {'role': 'assistant',\n",
       "  'content': 'Natürlich! Wie wäre es, wenn wir über das Leben in Deutschland sprechen? Zum Beispiel könnten wir über das deutsche Bildungssystem, das Gesundheitssystem oder auch das Arbeitsleben reden. Was interessiert dich am meisten?'},\n",
       " {'role': 'user',\n",
       "  'content': 'Tut mir leid, aber ich habe keine Spezialinformationen über das Bildungssystem in Deutschland, weil ich in der Türkei aufgewachsen und ich habe meine Bildung in der Türkei gemacht.'},\n",
       " {'role': 'assistant',\n",
       "  'content': 'Kein Problem! Dann lass uns doch über das Arbeitsleben in Deutschland sprechen. Bist du daran interessiert, wie Jobs und Arbeitsbedingungen hier sind?'},\n",
       " {'role': 'user',\n",
       "  'content': 'Das wäre ein interessantes Thema für mich, weil ich auf der Suche nach einem Job bin.'},\n",
       " {'role': 'assistant',\n",
       "  'content': 'Das ist gut zu hören! Das deutsche Arbeitsleben ist in der Regel von Stabilität und rechtlichen Schutzbestimmungen geprägt. Es gibt viele Beschäftigungsmöglichkeiten in verschiedenen Branchen, abhängig von deinen Qualifikationen und Interessen. In Deutschland ist es üblich, dass Arbeitnehmer einen unbefristeten Vertrag haben und eine gewisse Arbeitsplatzsicherheit genießen. Es gibt auch Arbeitszeitregelungen, wie die 40-Stunden-Woche, und es wird oft Wert auf die Work-Life-Balance gelegt. Möchtest du mehr über bestimmte Aspekte des deutschen Arbeitslebens erfahren?'},\n",
       " {'role': 'user',\n",
       "  'content': 'Ich schmiede jetzt so, Deutschland ist berühmt für den Schutz der Arbeit, Arbeiten. Zum Beispiel ist es verboten an Feiertagen zu arbeiten.'},\n",
       " {'role': 'assistant',\n",
       "  'content': 'Ja, das stimmt! In Deutschland gibt es strenge Arbeitszeitregelungen, um die Arbeitszeit der Arbeitnehmer zu schützen. Es gibt gesetzliche Vorschriften, die festlegen, wie viele Stunden pro Woche gearbeitet werden dürfen und wie lange die tägliche Arbeitszeit sein darf. Es gibt auch spezielle Regeln für Arbeitszeiten an Sonn- und Feiertagen. In der Regel ist es nicht erlaubt, an gesetzlichen Feiertagen zu arbeiten, es sei denn, es handelt sich um Berufe, bei denen es aus bestimmten Gründen erforderlich ist, wie z.B. im Gesundheitswesen oder in der Gastronomie. Das soll sicherstellen, dass Arbeitnehmer genug Zeit für Erholung und Freizeit haben.'},\n",
       " {'role': 'user',\n",
       "  'content': 'Ja, das stimmt. Aber manchmal ist es sehr schwierig, am Sonntag eine geöffnete Geschäft zu finden.'},\n",
       " {'role': 'assistant',\n",
       "  'content': 'Ja, das kann manchmal frustrierend sein, besonders wenn man etwas bestimmtes einkaufen muss und die Geschäfte geschlossen sind. In Deutschland gibt es jedoch bestimmte Ausnahmen, bei denen Geschäfte auch an Sonntagen geöffnet sein dürfen. Zum Beispiel in touristischen Gebieten, an Bahnhöfen und Flughäfen oder in bestimmten Einkaufszentren. In größeren Städten gibt es oft auch Sonntagsmärkte, auf denen frische Lebensmittel und andere Produkte angeboten werden. Es ist jedoch wichtig zu beachten, dass das Sonntagsarbeitsverbot ein wichtiger Teil des deutschen Arbeitsrechts ist und sicherstellen soll, dass Arbeitnehmer genügend Zeit haben, um sich auszuruhen und Zeit mit ihren Familien und Freunden zu verbringen.'},\n",
       " {'role': 'user',\n",
       "  'content': 'Die Arbeitnehmer können ihre Arbeitszeiten anpassen, indem sie Sichten einlegen. Dann die Tatsache, dass die Geschäfte am Sonntag nicht geöffnet sind, kann sie daran hindern, die Geschäfte am Feiertag zu erledigen.'},\n",
       " {'role': 'assistant',\n",
       "  'content': 'Ja, das ist richtig. Das Sonntagsarbeitsverbot dient dazu, Arbeitnehmer vor übermäßiger Belastung zu schützen und ihnen die Möglichkeit zu geben, ihre Arbeitszeit zu erholen und Zeit mit ihren Familien zu verbringen. Für Arbeitnehmer, die an Wochentagen wenig Zeit haben, um Einkäufe zu erledigen, kann das Fehlen von geöffneten Geschäften an Sonntagen oder Feiertagen eine Herausforderung sein. In solchen Fällen ist es jedoch oft möglich, online einzukaufen oder die Einkäufe an anderen Tagen zu erledigen, an denen die Geschäfte geöffnet sind. Einige größere Städte bieten auch spezielle Late-Night-Shopping-Events oder verlängerte Öffnungszeiten an bestimmten Tagen an, um den Bedürfnissen der Verbraucher gerecht zu werden.'},\n",
       " {'role': 'user',\n",
       "  'content': 'Ich denke darüber könnte ein Referendum stattfinden. Kann.'},\n",
       " {'role': 'assistant',\n",
       "  'content': 'Ja, es ist möglich, dass in bestimmten Regionen oder Städten Referenden zu Fragen wie der Öffnung von Geschäften an Sonn- und Feiertagen abgehalten werden. In der Vergangenheit haben einige regionale Regierungen solche Referenden durchgeführt, um die Meinungen der Bevölkerung zu diesem Thema zu erfahren. Die Ergebnisse solcher Referenden können dann dazu führen, dass lokale Gesetze und Richtlinien angepasst werden, um den Bedürfnissen und Wünschen der Menschen vor Ort gerecht zu werden. Es ist jedoch wichtig zu beachten, dass die Regelungen zum Sonntagsschutz und den Feiertagen wichtige Teile des deutschen Arbeitsrechts sind und es unterschiedliche Meinungen und Ansichten zu diesem Thema gibt.'},\n",
       " {'role': 'user',\n",
       "  'content': 'Ich habe noch nie gehört, dass eine Referenz über dieses Thema anbietet. Das bedeutet, dass die Lokalen wollten, dass die Geschäfte und Märkte am Sonntag geschlossen bleiben.'},\n",
       " {'role': 'assistant',\n",
       "  'content': 'Ja, das ist richtig. Es gibt in der Tat eine starke Tradition und Unterstützung für den Sonntagsschutz und die Schließung von Geschäften an Sonn- und Feiertagen in Deutschland. Viele Menschen schätzen diesen Tag als Ruhetag, an dem sie sich erholen, Zeit mit ihren Familien verbringen und soziale Aktivitäten nachgehen können. Die gesetzlichen Regelungen zum Sonntagsschutz werden oft als wichtiges kulturelles Gut betrachtet. Es gibt jedoch auch Diskussionen und Debatten über mögliche Änderungen in dieser Hinsicht, insbesondere im Zusammenhang mit dem Online-Handel und den veränderten Einkaufsgewohnheiten. Letztendlich wäre es möglich, dass eine Region oder Stadt in einem demokratischen Prozess entscheidet, die Öffnungszeiten an Sonn- und Feiertagen zu ändern, aber dies müsste in Übereinstimmung mit den geltenden Gesetzen und Vorschriften geschehen.'},\n",
       " {'role': 'user',\n",
       "  'content': 'Ja, natürlich, wenn eine Anbindung vorgenommen werden, muss sie mit den geltenden Gesetzen übereinstimmen.'},\n",
       " {'role': 'assistant',\n",
       "  'content': 'Genau, bei Veränderungen in Bezug auf den Sonntagsschutz oder die Öffnungszeiten von Geschäften müssten die geltenden Gesetze und Vorschriften beachtet werden. Das bedeutet, dass eventuelle Änderungen demokratisch legitimiert und mit den relevanten gesetzlichen Bestimmungen des Arbeitsrechts in Einklang gebracht werden müssten. Es ist wichtig, dass Gesetze und Vorschriften den Schutz der Arbeitnehmer und die Bedürfnisse der Gesellschaft insgesamt berücksichtigen.'}]"
      ]
     },
     "execution_count": 10,
     "metadata": {},
     "output_type": "execute_result"
    }
   ],
   "source": [
    "with open(\"chat_log2.pkl\", \"rb\") as file:\n",
    "    chat_log = pickle.load(file)\n",
    "chat_log= chat_log[2:-2] # delete the system message and user's greeting\n",
    "len(chat_log)\n",
    "chat_log\n"
   ]
  },
  {
   "cell_type": "code",
   "execution_count": 7,
   "metadata": {},
   "outputs": [
    {
     "ename": "AssertionError",
     "evalue": "the length of chat is not appropriate  ",
     "output_type": "error",
     "traceback": [
      "\u001b[0;31m---------------------------------------------------------------------------\u001b[0m",
      "\u001b[0;31mAssertionError\u001b[0m                            Traceback (most recent call last)",
      "Cell \u001b[0;32mIn[7], line 21\u001b[0m\n\u001b[1;32m     18\u001b[0m         \u001b[39mprint\u001b[39m(\u001b[39mf\u001b[39m\u001b[39m'\u001b[39m\u001b[39mGPT response:\u001b[39m\u001b[39m\\n\u001b[39;00m\u001b[39m{\u001b[39;00mchat_response\u001b[39m}\u001b[39;00m\u001b[39m'\u001b[39m\u001b[39m+\u001b[39m \u001b[39m'\u001b[39m\u001b[39m\\n\u001b[39;00m\u001b[39m                    ---------------------------------------------------------------\u001b[39m\u001b[39m'\u001b[39m)  \u001b[39m# Print the assistant's response\u001b[39;00m\n\u001b[1;32m     19\u001b[0m         messages\u001b[39m.\u001b[39mappend({\u001b[39m\"\u001b[39m\u001b[39mrole\u001b[39m\u001b[39m\"\u001b[39m: \u001b[39m\"\u001b[39m\u001b[39massistant\u001b[39m\u001b[39m\"\u001b[39m, \u001b[39m\"\u001b[39m\u001b[39mcontent\u001b[39m\u001b[39m\"\u001b[39m: chat_response}) \n\u001b[0;32m---> 21\u001b[0m get_feedback(system_definition,chat_log)\n",
      "Cell \u001b[0;32mIn[7], line 6\u001b[0m, in \u001b[0;36mget_feedback\u001b[0;34m(system_definition, chat_log)\u001b[0m\n\u001b[1;32m      5\u001b[0m \u001b[39mdef\u001b[39;00m \u001b[39mget_feedback\u001b[39m(system_definition,chat_log):\n\u001b[0;32m----> 6\u001b[0m     \u001b[39massert\u001b[39;00m \u001b[39mlen\u001b[39m(chat_log) \u001b[39m%\u001b[39m \u001b[39m2\u001b[39m  \u001b[39m==\u001b[39m \u001b[39m0\u001b[39m , \u001b[39m\"\u001b[39m\u001b[39mthe length of chat is not appropriate  \u001b[39m\u001b[39m\"\u001b[39m\n\u001b[1;32m      7\u001b[0m     messages \u001b[39m=\u001b[39m [{\u001b[39m\"\u001b[39m\u001b[39mrole\u001b[39m\u001b[39m\"\u001b[39m: \u001b[39m\"\u001b[39m\u001b[39msystem\u001b[39m\u001b[39m\"\u001b[39m, \u001b[39m\"\u001b[39m\u001b[39mcontent\u001b[39m\u001b[39m\"\u001b[39m : system_definition}]\n\u001b[1;32m      8\u001b[0m     \u001b[39mfor\u001b[39;00m i \u001b[39min\u001b[39;00m \u001b[39mrange\u001b[39m((\u001b[39mlen\u001b[39m(chat_log))\u001b[39m/\u001b[39m\u001b[39m/\u001b[39m\u001b[39m2\u001b[39m):\n",
      "\u001b[0;31mAssertionError\u001b[0m: the length of chat is not appropriate  "
     ]
    }
   ],
   "source": [
    "\n",
    "with open('promp_new.txt', 'r') as file:\n",
    "    system_definition = file.read()\n",
    "\n",
    "\n",
    "def get_feedback(system_definition,chat_log):\n",
    "    assert len(chat_log) % 2  == 0 , \"the length of chat is not appropriate  \"\n",
    "    messages = [{\"role\": \"system\", \"content\" : system_definition}]\n",
    "    for i in range((len(chat_log))//2):\n",
    "        content = chat_log[2*i][\"role\"] + ': ' + chat_log[2*i][\"content\"] +'\\n' + chat_log[2*i+1][\"role\"] +': '+ chat_log[2*i+1][\"content\"]\n",
    "        messages.append({\"role\": \"user\", \"content\" : content})\n",
    "      \n",
    "        completion = openai.ChatCompletion.create(\n",
    "                model=\"gpt-3.5-turbo\",\n",
    "                messages=messages\n",
    "        )  \n",
    "        chat_response = completion.choices[0].message.content  \n",
    "        print(content+'\\n')\n",
    "        print(f'GPT response:\\n{chat_response}'+ '\\n                    ---------------------------------------------------------------')  # Print the assistant's response\n",
    "        messages.append({\"role\": \"assistant\", \"content\": chat_response}) \n",
    "\n",
    "get_feedback(system_definition,chat_log)\n",
    "\n"
   ]
  },
  {
   "cell_type": "code",
   "execution_count": 96,
   "metadata": {},
   "outputs": [
    {
     "name": "stdout",
     "output_type": "stream",
     "text": [
      "VOCAB LIST:\n",
      "Vocabulary:\n",
      "1. Besonderes (special)\n",
      "2. Interessantes (interesting)\n",
      "3. Erlebt (experienced)\n",
      "4. Aktivitäten (activities)\n",
      "5. Sprachkurs (language course)\n",
      "6. Sportgruppe (sports group)\n",
      "7. Kennenzulernen (to get to know)\n",
      "8. Verbindung (connection)\n",
      "9. Engagieren (to engage)\n",
      "10. Hobbys (hobbies)\n",
      "11. Leidenschaften (passions)\n",
      "12. Sportverein (sports club)\n",
      "13. Leseclub (book club)\n",
      "14. Freiwilliger Verein (volunteer organization)\n",
      "15. Tandempartner (language exchange partner)\n",
      "16. Einsatz (effort)\n",
      "17. Lohnen (to be worth it)\n",
      "18. Facebook-Gruppen (Facebook groups)\n",
      "19. Tandem-Plattformen (tandem platforms)\n",
      "20. Passenden (suitable)\n",
      "\n",
      "Example sentences:\n",
      "1. Ich habe gestern einen besonderen Tag erlebt, als ich meine Familie nach vielen Monaten der Trennung wiedergesehen habe.\n",
      "2. Ich interessiere mich für verschiedene Aktivitäten wie Malen, Tanzen und Wandern.\n",
      "3. Es könnte interessant sein, an einem Sprachkurs teilzunehmen, um meine Deutschkenntnisse zu verbessern.\n",
      "4. Ich habe mich einer Sportgruppe angeschlossen, um fit zu bleiben und gleichzeitig neue Leute kennenzulernen.\n",
      "5. Durch mein Engagement im Leseclub habe ich viele neue Freunde gefunden, die meine Leidenschaft für Bücher teilen.\n",
      "6. Ich überlege mir, einem freiwilligen Verein beizutreten, um anderen Menschen zu helfen und gleichzeitig neue Erfahrungen zu sammeln.\n",
      "7. Mein Sportverein bietet eine Vielzahl von Aktivitäten an, darunter Fußball, Tennis und Schwimmen.\n",
      "8. Der Leseclub ist ein großartiger Ort, um Gleichgesinnte zu treffen und gemeinsam über Bücher zu diskutieren.\n",
      "9. Durch freiwilliges Engagement konnte ich viele neue Verbindungen knüpfen und wertvolle Lebenserfahrungen sammeln.\n",
      "10. Meine Hobbys umfassen Fotografie, Kochen und Reisen.\n",
      "11. Ich verfolge meine Leidenschaft für Musik, indem ich in einer Band spiele und regelmäßig Konzerte besuche.\n",
      "12. Mein Freund hat sich einem neuen Sportverein angeschlossen, um sich fit zu halten und neue Leute kennenzulernen.\n",
      "13. Im Leseclub treffen wir uns einmal pro Woche, um gemeinsam Bücher zu lesen und darüber zu diskutieren.\n",
      "14. Ich engagiere mich in einem freiwilligen Verein, der Menschen in Not unterstützt und ihnen hilft, ein besseres Leben zu führen.\n",
      "15. Ein Tandempartner kann eine großartige Möglichkeit sein, eine neue Sprache zu lernen und gleichzeitig neue Freundschaften zu schließen.\n",
      "16. Es erfordert Einsatz und Zeit, um neue Freundschaften zu knüpfen, aber es lohnt sich in vielerlei Hinsicht.\n",
      "17. In Facebook-Gruppen kann man Menschen mit ähnlichen Interessen finden und sich mit ihnen austauschen.\n",
      "18. Es gibt viele Tandem-Plattformen, auf denen man nach passenden Tandempartnern suchen kann, um Sprachen zu lernen.\n",
      "19. Ich hoffe, dass du einen passenden Tandempartner findest, der deine Leidenschaft für Sprachen teilt.\n",
      "20. Wenn du Hilfe bei der Suche nach einem Tandempartner brauchst, stehe ich gerne zur Verfügung.\n"
     ]
    }
   ],
   "source": [
    "def vocab_report(assistant_response):\n",
    "    # Define the system role to set the behavior of the chat assistant\n",
    "    content = ' give a list of vocabulary at advanced level in the given text, and use all these words in example sentences for better understanding.the structure should be 1.vocabeln: ...   1.example sentence: ...   2.vocabeln: ...   2.example sentence: ... and go on'\n",
    "    messages = [\n",
    "        {\"role\": \"system\", \"content\" : content},\n",
    "        {\"role\": \"user\", \"content\" : assistant_response }]\n",
    "      \n",
    "    completion = openai.ChatCompletion.create(\n",
    "            model=\"gpt-3.5-turbo\",\n",
    "            messages=messages\n",
    "    )  \n",
    "    chat_response = completion.choices[0].message.content  # Extract the response from the completion\n",
    "    print(f'VOCAB LIST:\\n{chat_response}')\n",
    "\n",
    "assistant_responses= \"\"\n",
    "for i in range(len(chat_log)//2):\n",
    "    assistant_responses += chat_log[2*i][\"content\"]\n",
    "    \n",
    "vocab_report(assistant_responses)"
   ]
  }
 ],
 "metadata": {
  "kernelspec": {
   "display_name": "Python 3",
   "language": "python",
   "name": "python3"
  },
  "language_info": {
   "codemirror_mode": {
    "name": "ipython",
    "version": 3
   },
   "file_extension": ".py",
   "mimetype": "text/x-python",
   "name": "python",
   "nbconvert_exporter": "python",
   "pygments_lexer": "ipython3",
   "version": "3.9.6"
  },
  "orig_nbformat": 4
 },
 "nbformat": 4,
 "nbformat_minor": 2
}
