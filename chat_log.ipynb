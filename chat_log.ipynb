{
 "cells": [
  {
   "cell_type": "code",
   "execution_count": null,
   "metadata": {},
   "outputs": [],
   "source": [
    "import pickle\n",
    "import openai\n",
    "import numpy as np\n",
    "import os"
   ]
  },
  {
   "cell_type": "code",
   "execution_count": null,
   "metadata": {},
   "outputs": [],
   "source": [
    "#read the txt file contains OpenAI API key\n",
    "with open('openai_api_key.txt.gitignore') as f:\n",
    "    api_key = f.readline()\n",
    "openai.api_key = api_key"
   ]
  },
  {
   "cell_type": "code",
   "execution_count": 46,
   "metadata": {},
   "outputs": [
    {
     "data": {
      "text/plain": [
       "10"
      ]
     },
     "execution_count": 46,
     "metadata": {},
     "output_type": "execute_result"
    }
   ],
   "source": [
    "with open(\"chat_log.pkl\", \"rb\") as file:\n",
    "    chat_log = pickle.load(file)\n",
    "chat_log= chat_log[2:12] # delete the system message and user's greeting\n",
    "len(chat_log)"
   ]
  },
  {
   "cell_type": "code",
   "execution_count": 84,
   "metadata": {},
   "outputs": [
    {
     "name": "stdout",
     "output_type": "stream",
     "text": [
      "assistant: Hallo! Mein Tag war ganz gut, danke! Wie war deiner? Hast du etwas Besonderes gemacht?\n",
      "user: Ich habe keine besondere Macht.\n",
      "\n",
      "GPT response:\n",
      "assistant: Hallo! Mein Tag war ganz gut, danke! Wie war deiner? Hast du etwas Besonderes gemacht?\n",
      "user: Ich habe nichts Besonderes gemacht.\n",
      "Error Type: Wrong Vocabulary Use\n",
      "Explanation: The word \"Macht\" translates to \"power\". The correct word is \"gemacht\" meaning \"done\".\n",
      "Example: Gestern habe ich etwas Besonderes gemacht. (Yesterday I did something special.)\n",
      "                    ---------------------------------------------------------------\n",
      "assistant: Oh, das tut mir leid, ich meinte eigentlich, ob du etwas Besonderes gemacht hast. Hast du heute etwas Interessantes erlebt?\n",
      "user: Es ist sehr schwierig in Deutschland eine interessante Aktivität zu finden.\n",
      "\n",
      "GPT response:\n",
      "assistant: Oh, das tut mir leid, ich meinte eigentlich, ob du etwas Besonderes gemacht hast. Hast du heute etwas Interessantes erlebt?\n",
      "user: Es ist sehr schwierig, in Deutschland eine interessante Aktivität zu finden.\n",
      "Error Type: Missing comma\n",
      "Explanation: In German, it is necessary to use a comma after introductory phrases or when separating main clauses.\n",
      "Example: Es ist sehr schwierig, in Deutschland eine interessante Aktivität zu finden.\n",
      "                    ---------------------------------------------------------------\n"
     ]
    }
   ],
   "source": [
    "\n",
    "with open('prom_orig.txt', 'r') as file:\n",
    "    system_definition = file.read()\n",
    "\n",
    "\n",
    "def get_feedback(system_definition,chat_log):\n",
    "    assert len(chat_log) % 2  == 0 , \"the length of chat is not appropriate  \"\n",
    "    messages = [{\"role\": \"system\", \"content\" : system_definition}]\n",
    "    for i in range((len(chat_log))//2):\n",
    "        content = chat_log[2*i][\"role\"] + ': ' + chat_log[2*i][\"content\"] +'\\n' + chat_log[2*i+1][\"role\"] +': '+ chat_log[2*i+1][\"content\"]\n",
    "        messages.append({\"role\": \"user\", \"content\" : content})\n",
    "      \n",
    "        completion = openai.ChatCompletion.create(\n",
    "                model=\"gpt-3.5-turbo\",\n",
    "                messages=messages\n",
    "        )  \n",
    "        chat_response = completion.choices[0].message.content  \n",
    "        print(content+'\\n')\n",
    "        print(f'GPT response:\\n{chat_response}'+ '\\n                    ---------------------------------------------------------------')  # Print the assistant's response\n",
    "        messages.append({\"role\": \"assistant\", \"content\": chat_response}) \n",
    "\n",
    "get_feedback(system_definition,chat_log)\n",
    "\n"
   ]
  },
  {
   "cell_type": "code",
   "execution_count": 59,
   "metadata": {},
   "outputs": [
    {
     "name": "stdout",
     "output_type": "stream",
     "text": [
      "GPT response:\n",
      "user: Ich habe keine besondere Macht.\n",
      "Corrected input: Ich habe nichts Besonderes gemacht.\n",
      "                    ---------------------------------------------------------------\n",
      "GPT response:\n",
      "user: Ich habe keine besondere Macht.\n",
      "Corrected input: Ich habe nichts Besonderes gemacht.\n",
      "                    ---------------------------------------------------------------\n",
      "GPT response:\n",
      "User Input: Ich habe keine besondere Macht.\n",
      "Corrected input: Ich habe nichts Besonderes gemacht.\n",
      "                    ---------------------------------------------------------------\n",
      "GPT response:\n",
      "user: Ich habe nichts Besonderes gemacht.\n",
      "                    ---------------------------------------------------------------\n",
      "GPT response:\n",
      "user: Ich habe keine besondere Macht.\n",
      "Corrected input: Ich habe nichts Besonderes gemacht.\n",
      "                    ---------------------------------------------------------------\n"
     ]
    },
    {
     "ename": "IndexError",
     "evalue": "list index out of range",
     "output_type": "error",
     "traceback": [
      "\u001b[0;31m---------------------------------------------------------------------------\u001b[0m",
      "\u001b[0;31mIndexError\u001b[0m                                Traceback (most recent call last)",
      "Cell \u001b[0;32mIn[59], line 17\u001b[0m\n\u001b[1;32m     15\u001b[0m         messages\u001b[39m.\u001b[39mappend({\u001b[39m\"\u001b[39m\u001b[39mrole\u001b[39m\u001b[39m\"\u001b[39m: \u001b[39m\"\u001b[39m\u001b[39massistant\u001b[39m\u001b[39m\"\u001b[39m, \u001b[39m\"\u001b[39m\u001b[39mcontent\u001b[39m\u001b[39m\"\u001b[39m: chat_log[\u001b[39m2\u001b[39m\u001b[39m*\u001b[39mi\u001b[39m+\u001b[39m\u001b[39m2\u001b[39m][\u001b[39m\"\u001b[39m\u001b[39mrole\u001b[39m\u001b[39m\"\u001b[39m] \u001b[39m+\u001b[39m \u001b[39m'\u001b[39m\u001b[39m: \u001b[39m\u001b[39m'\u001b[39m \u001b[39m+\u001b[39m chat_log[\u001b[39m2\u001b[39m\u001b[39m*\u001b[39mi\u001b[39m+\u001b[39m\u001b[39m2\u001b[39m][\u001b[39m\"\u001b[39m\u001b[39mcontent\u001b[39m\u001b[39m\"\u001b[39m] \u001b[39m+\u001b[39m\u001b[39m'\u001b[39m\u001b[39m\\n\u001b[39;00m\u001b[39m'\u001b[39m \u001b[39m+\u001b[39m chat_log[\u001b[39m2\u001b[39m\u001b[39m*\u001b[39mi\u001b[39m+\u001b[39m\u001b[39m3\u001b[39m][\u001b[39m\"\u001b[39m\u001b[39mrole\u001b[39m\u001b[39m\"\u001b[39m] \u001b[39m+\u001b[39m\u001b[39m'\u001b[39m\u001b[39m: \u001b[39m\u001b[39m'\u001b[39m\u001b[39m+\u001b[39m chat_log[\u001b[39m2\u001b[39m\u001b[39m*\u001b[39mi\u001b[39m+\u001b[39m\u001b[39m3\u001b[39m][\u001b[39m\"\u001b[39m\u001b[39mcontent\u001b[39m\u001b[39m\"\u001b[39m]})\n\u001b[1;32m     16\u001b[0m         messages\u001b[39m=\u001b[39m \u001b[39m\"\u001b[39m\u001b[39m\"\u001b[39m\n\u001b[0;32m---> 17\u001b[0m get_feedback(system_definition,chat_log)\n",
      "Cell \u001b[0;32mIn[59], line 15\u001b[0m, in \u001b[0;36mget_feedback\u001b[0;34m(system_definition, chat_log)\u001b[0m\n\u001b[1;32m     13\u001b[0m chat_response \u001b[39m=\u001b[39m completion\u001b[39m.\u001b[39mchoices[\u001b[39m0\u001b[39m]\u001b[39m.\u001b[39mmessage\u001b[39m.\u001b[39mcontent  \u001b[39m# Extract the response from the completion\u001b[39;00m\n\u001b[1;32m     14\u001b[0m \u001b[39mprint\u001b[39m(\u001b[39mf\u001b[39m\u001b[39m'\u001b[39m\u001b[39mGPT response:\u001b[39m\u001b[39m\\n\u001b[39;00m\u001b[39m{\u001b[39;00mchat_response\u001b[39m}\u001b[39;00m\u001b[39m'\u001b[39m\u001b[39m+\u001b[39m \u001b[39m'\u001b[39m\u001b[39m\\n\u001b[39;00m\u001b[39m                    ---------------------------------------------------------------\u001b[39m\u001b[39m'\u001b[39m)  \u001b[39m# Print the assistant's response\u001b[39;00m\n\u001b[0;32m---> 15\u001b[0m messages\u001b[39m.\u001b[39mappend({\u001b[39m\"\u001b[39m\u001b[39mrole\u001b[39m\u001b[39m\"\u001b[39m: \u001b[39m\"\u001b[39m\u001b[39massistant\u001b[39m\u001b[39m\"\u001b[39m, \u001b[39m\"\u001b[39m\u001b[39mcontent\u001b[39m\u001b[39m\"\u001b[39m: chat_log[\u001b[39m2\u001b[39;49m\u001b[39m*\u001b[39;49mi\u001b[39m+\u001b[39;49m\u001b[39m2\u001b[39;49m][\u001b[39m\"\u001b[39m\u001b[39mrole\u001b[39m\u001b[39m\"\u001b[39m] \u001b[39m+\u001b[39m \u001b[39m'\u001b[39m\u001b[39m: \u001b[39m\u001b[39m'\u001b[39m \u001b[39m+\u001b[39m chat_log[\u001b[39m2\u001b[39m\u001b[39m*\u001b[39mi\u001b[39m+\u001b[39m\u001b[39m2\u001b[39m][\u001b[39m\"\u001b[39m\u001b[39mcontent\u001b[39m\u001b[39m\"\u001b[39m] \u001b[39m+\u001b[39m\u001b[39m'\u001b[39m\u001b[39m\\n\u001b[39;00m\u001b[39m'\u001b[39m \u001b[39m+\u001b[39m chat_log[\u001b[39m2\u001b[39m\u001b[39m*\u001b[39mi\u001b[39m+\u001b[39m\u001b[39m3\u001b[39m][\u001b[39m\"\u001b[39m\u001b[39mrole\u001b[39m\u001b[39m\"\u001b[39m] \u001b[39m+\u001b[39m\u001b[39m'\u001b[39m\u001b[39m: \u001b[39m\u001b[39m'\u001b[39m\u001b[39m+\u001b[39m chat_log[\u001b[39m2\u001b[39m\u001b[39m*\u001b[39mi\u001b[39m+\u001b[39m\u001b[39m3\u001b[39m][\u001b[39m\"\u001b[39m\u001b[39mcontent\u001b[39m\u001b[39m\"\u001b[39m]})\n\u001b[1;32m     16\u001b[0m messages\u001b[39m=\u001b[39m \u001b[39m\"\u001b[39m\u001b[39m\"\u001b[39m\n",
      "\u001b[0;31mIndexError\u001b[0m: list index out of range"
     ]
    }
   ],
   "source": [
    "###deneme\n",
    "def get_feedback(system_definition,chat_log):\n",
    "    assert len(chat_log) % 2  == 0 , \"the length of chat is not appropriate  \"\n",
    "    for i in range((len(chat_log))//2):\n",
    "        messages = [{\"role\": \"system\", \"content\" : system_definition}]\n",
    "        content = chat_log[0][\"role\"] + ': ' + chat_log[0][\"content\"] +'\\n' + chat_log[1][\"role\"] +': '+ chat_log[1][\"content\"]\n",
    "        # Define the system role to set the behavior of the chat assistant\n",
    "        messages.append({\"role\": \"user\", \"content\" : content})\n",
    "      \n",
    "        completion = openai.ChatCompletion.create(\n",
    "                model=\"gpt-3.5-turbo\",\n",
    "                messages=messages\n",
    "        )  \n",
    "        chat_response = completion.choices[0].message.content  # Extract the response from the completion\n",
    "        print(f'GPT response:\\n{chat_response}'+ '\\n                    ---------------------------------------------------------------')  # Print the assistant's response\n",
    "        messages.append({\"role\": \"assistant\", \"content\": chat_log[2*i+2][\"role\"] + ': ' + chat_log[2*i+2][\"content\"] +'\\n' + chat_log[2*i+3][\"role\"] +': '+ chat_log[2*i+3][\"content\"]})\n",
    "        messages= \"\"\n",
    "get_feedback(system_definition,chat_log)\n"
   ]
  },
  {
   "cell_type": "code",
   "execution_count": 54,
   "metadata": {},
   "outputs": [
    {
     "name": "stdout",
     "output_type": "stream",
     "text": [
      "assistant: Hallo! Mein Tag war ganz gut, danke! Wie war deiner? Hast du etwas Besonderes gemacht?\n",
      "user: Ich habe keine besondere Macht.\n",
      "GPT response:\n",
      "[{'role': 'system', 'content': 'system'}, {'role': 'user', 'content': 'assistant: Hallo! Mein Tag war ganz gut, danke! Wie war deiner? Hast du etwas Besonderes gemacht?\\nuser: Ich habe keine besondere Macht.'}]\n",
      "                    ---------------------------------------------------------------\n",
      "assistant: Oh, das tut mir leid, ich meinte eigentlich, ob du etwas Besonderes gemacht hast. Hast du heute etwas Interessantes erlebt?\n",
      "user: Es ist sehr schwierig in Deutschland eine interessante Aktivität zu finden.\n",
      "GPT response:\n",
      "[{'role': 'system', 'content': 'system'}, {'role': 'user', 'content': 'assistant: Oh, das tut mir leid, ich meinte eigentlich, ob du etwas Besonderes gemacht hast. Hast du heute etwas Interessantes erlebt?\\nuser: Es ist sehr schwierig in Deutschland eine interessante Aktivität zu finden.'}]\n",
      "                    ---------------------------------------------------------------\n",
      "assistant: Verstehe ich. Deutschland bietet aber viele verschiedene Aktivitäten an, je nachdem was einen interessiert. Hast du schon mal überlegt, an einem Sprachkurs oder einer Sportgruppe teilzunehmen? Das könnte eine Möglichkeit sein, neue Menschen kennenzulernen und gleichzeitig etwas Interessantes zu erleben. Was hältst du davon?\n",
      "user: Früher habe ich eine Sprachkurs teilgenommen, aber es ist immer noch schwierig, eine Freundschaft zu schließen. Hast du eine Empfehlung davon?\n",
      "GPT response:\n",
      "[{'role': 'system', 'content': 'system'}, {'role': 'user', 'content': 'assistant: Verstehe ich. Deutschland bietet aber viele verschiedene Aktivitäten an, je nachdem was einen interessiert. Hast du schon mal überlegt, an einem Sprachkurs oder einer Sportgruppe teilzunehmen? Das könnte eine Möglichkeit sein, neue Menschen kennenzulernen und gleichzeitig etwas Interessantes zu erleben. Was hältst du davon?\\nuser: Früher habe ich eine Sprachkurs teilgenommen, aber es ist immer noch schwierig, eine Freundschaft zu schließen. Hast du eine Empfehlung davon?'}]\n",
      "                    ---------------------------------------------------------------\n",
      "assistant: Es kann manchmal schwierig sein, neue Freundschaften zu knüpfen, aber es ist nicht unmöglich! Eine Sache, die du ausprobieren könntest, ist, dich in Freizeitaktivitäten oder Interessensgruppen zu engagieren, die deinen Hobbys oder Leidenschaften entsprechen. Das könnte zum Beispiel ein Sportverein, ein Leseclub oder ein freiwilliger Verein sein. Dadurch triffst du Menschen, die ähnliche Interessen haben wie du, und es fällt oft leichter, eine Verbindung aufzubauen. Vielleicht könntest du auch überlegen, einen Tandempartner zu finden, um deine Deutschkenntnisse zu verbessern und gleichzeitig neue Leute kennenzulernen. Es erfordert ein wenig Einsatz, aber es lohnt sich, um neue Freundschaften zu finden.\n",
      "user: Ja, noch hast du dich, ich könnte überlegen, dass eine Tandempartner zu finden, die die gleiche Interessenten mit mir haben.\n",
      "GPT response:\n",
      "[{'role': 'system', 'content': 'system'}, {'role': 'user', 'content': 'assistant: Es kann manchmal schwierig sein, neue Freundschaften zu knüpfen, aber es ist nicht unmöglich! Eine Sache, die du ausprobieren könntest, ist, dich in Freizeitaktivitäten oder Interessensgruppen zu engagieren, die deinen Hobbys oder Leidenschaften entsprechen. Das könnte zum Beispiel ein Sportverein, ein Leseclub oder ein freiwilliger Verein sein. Dadurch triffst du Menschen, die ähnliche Interessen haben wie du, und es fällt oft leichter, eine Verbindung aufzubauen. Vielleicht könntest du auch überlegen, einen Tandempartner zu finden, um deine Deutschkenntnisse zu verbessern und gleichzeitig neue Leute kennenzulernen. Es erfordert ein wenig Einsatz, aber es lohnt sich, um neue Freundschaften zu finden.\\nuser: Ja, noch hast du dich, ich könnte überlegen, dass eine Tandempartner zu finden, die die gleiche Interessenten mit mir haben.'}]\n",
      "                    ---------------------------------------------------------------\n",
      "assistant: Das klingt nach einer großartigen Idee! Ein Tandempartner ist eine wunderbare Möglichkeit, deine Deutschkenntnisse zu verbessern und gleichzeitig neue Freundschaften zu schließen. Du könntest online nach Tandempartnern suchen, zum Beispiel in speziellen Facebook-Gruppen oder auf Tandem-Plattformen. Dort kannst du Menschen finden, die ähnliche Interessen haben wie du und sich darauf freuen, ihre Muttersprache mit dir zu teilen. Viel Glück bei der Suche nach einem passenden Tandempartner! Wenn du weitere Fragen hast oder Hilfe benötigst, stehe ich gerne zur Verfügung.\n",
      "user: Kannst du besondere Plattformen empfehlen, in dem ich eine Tandem finden kann?\n",
      "GPT response:\n",
      "[{'role': 'system', 'content': 'system'}, {'role': 'user', 'content': 'assistant: Das klingt nach einer großartigen Idee! Ein Tandempartner ist eine wunderbare Möglichkeit, deine Deutschkenntnisse zu verbessern und gleichzeitig neue Freundschaften zu schließen. Du könntest online nach Tandempartnern suchen, zum Beispiel in speziellen Facebook-Gruppen oder auf Tandem-Plattformen. Dort kannst du Menschen finden, die ähnliche Interessen haben wie du und sich darauf freuen, ihre Muttersprache mit dir zu teilen. Viel Glück bei der Suche nach einem passenden Tandempartner! Wenn du weitere Fragen hast oder Hilfe benötigst, stehe ich gerne zur Verfügung.\\nuser: Kannst du besondere Plattformen empfehlen, in dem ich eine Tandem finden kann?'}]\n",
      "                    ---------------------------------------------------------------\n"
     ]
    }
   ],
   "source": [
    "\n",
    "system_definition = 'system'\n",
    "\n",
    "for i in range((len(chat_log))//2):\n",
    "    messages = [{\"role\": \"system\", \"content\" : system_definition}]\n",
    "    messages = [{\"role\": \"system\", \"content\" : system_definition}]\n",
    "    content = chat_log[2*i][\"role\"] + ': ' + chat_log[2*i][\"content\"] +'\\n' + chat_log[2*i+1][\"role\"] +': '+ chat_log[2*i+1][\"content\"]\n",
    "    messages.append({\"role\": \"user\", \"content\" : content})\n",
    "    print(content)\n",
    "    print(f'GPT response:\\n{messages}'+ '\\n                    ---------------------------------------------------------------')  # Print the assistant's response\n",
    "    messages= \"\"\n"
   ]
  },
  {
   "cell_type": "code",
   "execution_count": null,
   "metadata": {},
   "outputs": [],
   "source": [
    "assert len(chat_log) % 2  == 0 , \"the length of chat is not appropriate  \"\n",
    "for i in range(2):\n",
    "    content = chat_log[2*i][\"role\"] + ': ' + chat_log[2*i][\"content\"] +'\\n' + chat_log[2*i+1][\"role\"] +': '+ chat_log[2*i+1][\"content\"]\n",
    "    # Define the system role to set the behavior of the chat assistant\n",
    "print(content)"
   ]
  },
  {
   "cell_type": "code",
   "execution_count": null,
   "metadata": {},
   "outputs": [],
   "source": [
    "\n",
    "assert len(chat_log) % 2  != 0 , \"the length of chat is not appropriate   \"\n",
    "for i in range((len(chat_log)-1)//2):\n",
    "    string = chat_log[2*i][\"role\"] + ': ' + chat_log[2*i][\"content\"] +'\\n' + chat_log[2*i+1][\"role\"] +': '+ chat_log[2*i+1][\"content\"]\n",
    "    print('\\n\\n' + string + '\\n')\n",
    "    get_feedback(string)\n",
    "\n"
   ]
  },
  {
   "cell_type": "code",
   "execution_count": null,
   "metadata": {},
   "outputs": [],
   "source": [
    "def vocab_report(asisstant_resp):\n",
    "    # Define the system role to set the behavior of the chat assistant\n",
    "    content = ' provide a list of German vocabulary at the B2-C1 level within the given text, and use these words in example sentences for better understanding.'\n",
    "    messages = [\n",
    "        {\"role\": \"system\", \"content\" : content},\n",
    "        {\"role\": \"user\", \"content\" : assistant_responses }]\n",
    "      \n",
    "    completion = openai.ChatCompletion.create(\n",
    "            model=\"gpt-3.5-turbo\",\n",
    "            messages=messages\n",
    "    )  \n",
    "    chat_response = completion.choices[0].message.content  # Extract the response from the completion\n",
    "    print(f'VOCAB LIST:\\n{chat_response}')\n",
    "\n",
    "assistant_responses= \"\"\n",
    "for i in range((len(chat_log)-1)//2):\n",
    "    assistant_responses += chat_log[2*i][\"content\"]\n",
    "\n",
    "vocab_report(assistant_responses)"
   ]
  }
 ],
 "metadata": {
  "kernelspec": {
   "display_name": "Python 3",
   "language": "python",
   "name": "python3"
  },
  "language_info": {
   "codemirror_mode": {
    "name": "ipython",
    "version": 3
   },
   "file_extension": ".py",
   "mimetype": "text/x-python",
   "name": "python",
   "nbconvert_exporter": "python",
   "pygments_lexer": "ipython3",
   "version": "3.9.6"
  },
  "orig_nbformat": 4
 },
 "nbformat": 4,
 "nbformat_minor": 2
}
